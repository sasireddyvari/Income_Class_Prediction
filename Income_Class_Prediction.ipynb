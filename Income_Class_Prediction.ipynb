{
  "nbformat": 4,
  "nbformat_minor": 0,
  "metadata": {
    "colab": {
      "name": "Income_Class_Prediction.ipynb",
      "provenance": [],
      "collapsed_sections": [],
      "mount_file_id": "1pt9CZBI3aiKjrTCh1OKruBMGzEfCZvFe",
      "authorship_tag": "ABX9TyPr+ykQvngEyjN53HUdXsyF",
      "include_colab_link": true
    },
    "kernelspec": {
      "name": "python3",
      "display_name": "Python 3"
    }
  },
  "cells": [
    {
      "cell_type": "markdown",
      "metadata": {
        "id": "view-in-github",
        "colab_type": "text"
      },
      "source": [
        "<a href=\"https://colab.research.google.com/github/sasireddyvari/Income_Class_Prediction/blob/master/Income_Class_Prediction.ipynb\" target=\"_parent\"><img src=\"https://colab.research.google.com/assets/colab-badge.svg\" alt=\"Open In Colab\"/></a>"
      ]
    },
    {
      "cell_type": "code",
      "metadata": {
        "id": "igzKHBiHpB5A"
      },
      "source": [
        "import pandas as pd\r\n",
        "import numpy as np\r\n",
        "import seaborn as sns\r\n",
        "import scipy as sp\r\n",
        "import matplotlib.pyplot as plt"
      ],
      "execution_count": null,
      "outputs": []
    },
    {
      "cell_type": "code",
      "metadata": {
        "id": "JMrzGK88512F"
      },
      "source": [
        "data=pd.read_csv('/content/drive/MyDrive/Colab Notebooks/Projects/data_practice/deloite/data_delottie.csv')"
      ],
      "execution_count": null,
      "outputs": []
    },
    {
      "cell_type": "code",
      "metadata": {
        "colab": {
          "base_uri": "https://localhost:8080/",
          "height": 575
        },
        "id": "RxhYlacKaQ9U",
        "outputId": "8a0713f4-b8aa-4654-a63e-40d3e377715c"
      },
      "source": [
        "data"
      ],
      "execution_count": null,
      "outputs": [
        {
          "output_type": "execute_result",
          "data": {
            "text/html": [
              "<div>\n",
              "<style scoped>\n",
              "    .dataframe tbody tr th:only-of-type {\n",
              "        vertical-align: middle;\n",
              "    }\n",
              "\n",
              "    .dataframe tbody tr th {\n",
              "        vertical-align: top;\n",
              "    }\n",
              "\n",
              "    .dataframe thead th {\n",
              "        text-align: right;\n",
              "    }\n",
              "</style>\n",
              "<table border=\"1\" class=\"dataframe\">\n",
              "  <thead>\n",
              "    <tr style=\"text-align: right;\">\n",
              "      <th></th>\n",
              "      <th>Unnamed: 0</th>\n",
              "      <th>Age</th>\n",
              "      <th>WorkClass</th>\n",
              "      <th>fnlwgt</th>\n",
              "      <th>Education</th>\n",
              "      <th>EducationNum</th>\n",
              "      <th>MaritalStatus</th>\n",
              "      <th>Occupation</th>\n",
              "      <th>Relationship</th>\n",
              "      <th>Gender</th>\n",
              "      <th>CapitalGain</th>\n",
              "      <th>CapitalLoss</th>\n",
              "      <th>HoursPerWeek</th>\n",
              "      <th>NativeCountry</th>\n",
              "      <th>Income</th>\n",
              "    </tr>\n",
              "  </thead>\n",
              "  <tbody>\n",
              "    <tr>\n",
              "      <th>0</th>\n",
              "      <td>0</td>\n",
              "      <td>39.0</td>\n",
              "      <td>State-gov</td>\n",
              "      <td>77516.0</td>\n",
              "      <td>Bachelors</td>\n",
              "      <td>13.0</td>\n",
              "      <td>Never-married</td>\n",
              "      <td>Adm-clerical</td>\n",
              "      <td>Not-in-family</td>\n",
              "      <td>Male</td>\n",
              "      <td>2174.0</td>\n",
              "      <td>0.0</td>\n",
              "      <td>40.0</td>\n",
              "      <td>United-States</td>\n",
              "      <td>&lt;=50K</td>\n",
              "    </tr>\n",
              "    <tr>\n",
              "      <th>1</th>\n",
              "      <td>1</td>\n",
              "      <td>50.0</td>\n",
              "      <td>Self-emp-not-inc</td>\n",
              "      <td>83311.0</td>\n",
              "      <td>Bachelors</td>\n",
              "      <td>13.0</td>\n",
              "      <td>Married-civ-spouse</td>\n",
              "      <td>NaN</td>\n",
              "      <td>Husband</td>\n",
              "      <td>Male</td>\n",
              "      <td>0.0</td>\n",
              "      <td>0.0</td>\n",
              "      <td>13.0</td>\n",
              "      <td>United-States</td>\n",
              "      <td>&lt;=50K</td>\n",
              "    </tr>\n",
              "    <tr>\n",
              "      <th>2</th>\n",
              "      <td>2</td>\n",
              "      <td>38.0</td>\n",
              "      <td>Private</td>\n",
              "      <td>215646.0</td>\n",
              "      <td>HS-grad</td>\n",
              "      <td>9.0</td>\n",
              "      <td>Divorced</td>\n",
              "      <td>Handlers-cleaners</td>\n",
              "      <td>Not-in-family</td>\n",
              "      <td>Male</td>\n",
              "      <td>0.0</td>\n",
              "      <td>0.0</td>\n",
              "      <td>40.0</td>\n",
              "      <td>United-States</td>\n",
              "      <td>&lt;=50K</td>\n",
              "    </tr>\n",
              "    <tr>\n",
              "      <th>3</th>\n",
              "      <td>3</td>\n",
              "      <td>53.0</td>\n",
              "      <td>Private</td>\n",
              "      <td>NaN</td>\n",
              "      <td>NaN</td>\n",
              "      <td>7.0</td>\n",
              "      <td>Married-civ-spouse</td>\n",
              "      <td>Handlers-cleaners</td>\n",
              "      <td>Husband</td>\n",
              "      <td>Male</td>\n",
              "      <td>0.0</td>\n",
              "      <td>NaN</td>\n",
              "      <td>40.0</td>\n",
              "      <td>United-States</td>\n",
              "      <td>&lt;=50K</td>\n",
              "    </tr>\n",
              "    <tr>\n",
              "      <th>4</th>\n",
              "      <td>4</td>\n",
              "      <td>28.0</td>\n",
              "      <td>Private</td>\n",
              "      <td>338409.0</td>\n",
              "      <td>Bachelors</td>\n",
              "      <td>13.0</td>\n",
              "      <td>Married-civ-spouse</td>\n",
              "      <td>Prof-specialty</td>\n",
              "      <td>Wife</td>\n",
              "      <td>NaN</td>\n",
              "      <td>0.0</td>\n",
              "      <td>0.0</td>\n",
              "      <td>40.0</td>\n",
              "      <td>Cuba</td>\n",
              "      <td>&lt;=50K</td>\n",
              "    </tr>\n",
              "    <tr>\n",
              "      <th>...</th>\n",
              "      <td>...</td>\n",
              "      <td>...</td>\n",
              "      <td>...</td>\n",
              "      <td>...</td>\n",
              "      <td>...</td>\n",
              "      <td>...</td>\n",
              "      <td>...</td>\n",
              "      <td>...</td>\n",
              "      <td>...</td>\n",
              "      <td>...</td>\n",
              "      <td>...</td>\n",
              "      <td>...</td>\n",
              "      <td>...</td>\n",
              "      <td>...</td>\n",
              "      <td>...</td>\n",
              "    </tr>\n",
              "    <tr>\n",
              "      <th>40930</th>\n",
              "      <td>16276</td>\n",
              "      <td>39.0</td>\n",
              "      <td>Private</td>\n",
              "      <td>215419.0</td>\n",
              "      <td>Bachelors</td>\n",
              "      <td>13.0</td>\n",
              "      <td>Divorced</td>\n",
              "      <td>Prof-specialty</td>\n",
              "      <td>Not-in-family</td>\n",
              "      <td>Female</td>\n",
              "      <td>0.0</td>\n",
              "      <td>0.0</td>\n",
              "      <td>36.0</td>\n",
              "      <td>United-States</td>\n",
              "      <td>&lt;=50K.</td>\n",
              "    </tr>\n",
              "    <tr>\n",
              "      <th>40931</th>\n",
              "      <td>16277</td>\n",
              "      <td>64.0</td>\n",
              "      <td>?</td>\n",
              "      <td>321403.0</td>\n",
              "      <td>HS-grad</td>\n",
              "      <td>9.0</td>\n",
              "      <td>Widowed</td>\n",
              "      <td>?</td>\n",
              "      <td>Other-relative</td>\n",
              "      <td>Male</td>\n",
              "      <td>0.0</td>\n",
              "      <td>0.0</td>\n",
              "      <td>40.0</td>\n",
              "      <td>United-States</td>\n",
              "      <td>&lt;=50K.</td>\n",
              "    </tr>\n",
              "    <tr>\n",
              "      <th>40932</th>\n",
              "      <td>16278</td>\n",
              "      <td>38.0</td>\n",
              "      <td>Private</td>\n",
              "      <td>374983.0</td>\n",
              "      <td>Bachelors</td>\n",
              "      <td>13.0</td>\n",
              "      <td>Married-civ-spouse</td>\n",
              "      <td>Prof-specialty</td>\n",
              "      <td>Husband</td>\n",
              "      <td>Male</td>\n",
              "      <td>0.0</td>\n",
              "      <td>0.0</td>\n",
              "      <td>50.0</td>\n",
              "      <td>United-States</td>\n",
              "      <td>&lt;=50K.</td>\n",
              "    </tr>\n",
              "    <tr>\n",
              "      <th>40933</th>\n",
              "      <td>16279</td>\n",
              "      <td>44.0</td>\n",
              "      <td>Private</td>\n",
              "      <td>83891.0</td>\n",
              "      <td>Bachelors</td>\n",
              "      <td>13.0</td>\n",
              "      <td>Divorced</td>\n",
              "      <td>Adm-clerical</td>\n",
              "      <td>Own-child</td>\n",
              "      <td>Male</td>\n",
              "      <td>5455.0</td>\n",
              "      <td>0.0</td>\n",
              "      <td>40.0</td>\n",
              "      <td>United-States</td>\n",
              "      <td>&lt;=50K.</td>\n",
              "    </tr>\n",
              "    <tr>\n",
              "      <th>40934</th>\n",
              "      <td>16280</td>\n",
              "      <td>35.0</td>\n",
              "      <td>Self-emp-inc</td>\n",
              "      <td>182148.0</td>\n",
              "      <td>Bachelors</td>\n",
              "      <td>13.0</td>\n",
              "      <td>Married-civ-spouse</td>\n",
              "      <td>Exec-managerial</td>\n",
              "      <td>Husband</td>\n",
              "      <td>Male</td>\n",
              "      <td>0.0</td>\n",
              "      <td>0.0</td>\n",
              "      <td>60.0</td>\n",
              "      <td>United-States</td>\n",
              "      <td>&gt;50K.</td>\n",
              "    </tr>\n",
              "  </tbody>\n",
              "</table>\n",
              "<p>40935 rows × 15 columns</p>\n",
              "</div>"
            ],
            "text/plain": [
              "       Unnamed: 0   Age  ...   NativeCountry   Income\n",
              "0               0  39.0  ...   United-States    <=50K\n",
              "1               1  50.0  ...   United-States    <=50K\n",
              "2               2  38.0  ...   United-States    <=50K\n",
              "3               3  53.0  ...   United-States    <=50K\n",
              "4               4  28.0  ...            Cuba    <=50K\n",
              "...           ...   ...  ...             ...      ...\n",
              "40930       16276  39.0  ...   United-States   <=50K.\n",
              "40931       16277  64.0  ...   United-States   <=50K.\n",
              "40932       16278  38.0  ...   United-States   <=50K.\n",
              "40933       16279  44.0  ...   United-States   <=50K.\n",
              "40934       16280  35.0  ...   United-States    >50K.\n",
              "\n",
              "[40935 rows x 15 columns]"
            ]
          },
          "metadata": {
            "tags": []
          },
          "execution_count": 4
        }
      ]
    },
    {
      "cell_type": "code",
      "metadata": {
        "colab": {
          "base_uri": "https://localhost:8080/"
        },
        "id": "eJeAbOFSa5rk",
        "outputId": "89bc05fc-d261-457c-e7a3-63cdc689c34f"
      },
      "source": [
        "data.dtypes"
      ],
      "execution_count": null,
      "outputs": [
        {
          "output_type": "execute_result",
          "data": {
            "text/plain": [
              "Unnamed: 0         int64\n",
              "Age              float64\n",
              "WorkClass         object\n",
              "fnlwgt           float64\n",
              "Education         object\n",
              "EducationNum     float64\n",
              "MaritalStatus     object\n",
              "Occupation        object\n",
              "Relationship      object\n",
              "Gender            object\n",
              "CapitalGain      float64\n",
              "CapitalLoss      float64\n",
              "HoursPerWeek     float64\n",
              "NativeCountry     object\n",
              "Income            object\n",
              "dtype: object"
            ]
          },
          "metadata": {
            "tags": []
          },
          "execution_count": 5
        }
      ]
    },
    {
      "cell_type": "code",
      "metadata": {
        "colab": {
          "base_uri": "https://localhost:8080/"
        },
        "id": "8Jy5YPGabFBd",
        "outputId": "7c0853c7-e10a-408d-c843-7c91fc45c444"
      },
      "source": [
        "data.isnull().sum()"
      ],
      "execution_count": null,
      "outputs": [
        {
          "output_type": "execute_result",
          "data": {
            "text/plain": [
              "Unnamed: 0          0\n",
              "Age              2741\n",
              "WorkClass        2789\n",
              "fnlwgt           2786\n",
              "Education        2743\n",
              "EducationNum     2803\n",
              "MaritalStatus    2924\n",
              "Occupation       2759\n",
              "Relationship     2815\n",
              "Gender           2727\n",
              "CapitalGain      2806\n",
              "CapitalLoss      2718\n",
              "HoursPerWeek     2680\n",
              "NativeCountry    2729\n",
              "Income              0\n",
              "dtype: int64"
            ]
          },
          "metadata": {
            "tags": []
          },
          "execution_count": 6
        }
      ]
    },
    {
      "cell_type": "code",
      "metadata": {
        "colab": {
          "base_uri": "https://localhost:8080/"
        },
        "id": "qkhxk8Irbl0g",
        "outputId": "90987e6b-2159-44a6-c257-7ec9871fa8bc"
      },
      "source": [
        "features_na=[feature for feature in data.columns if data[feature].isnull().sum()>1]\r\n",
        "features_na"
      ],
      "execution_count": null,
      "outputs": [
        {
          "output_type": "execute_result",
          "data": {
            "text/plain": [
              "['Age',\n",
              " 'WorkClass',\n",
              " 'fnlwgt',\n",
              " 'Education',\n",
              " 'EducationNum',\n",
              " 'MaritalStatus',\n",
              " 'Occupation',\n",
              " 'Relationship',\n",
              " 'Gender',\n",
              " 'CapitalGain',\n",
              " 'CapitalLoss',\n",
              " 'HoursPerWeek',\n",
              " 'NativeCountry']"
            ]
          },
          "metadata": {
            "tags": []
          },
          "execution_count": 7
        }
      ]
    },
    {
      "cell_type": "code",
      "metadata": {
        "colab": {
          "base_uri": "https://localhost:8080/"
        },
        "id": "8RZK_rZjby0j",
        "outputId": "fc4020ed-3f62-4b29-a146-a21d165860d3"
      },
      "source": [
        "for feature in features_na:\r\n",
        "  print(feature, np.round(data[feature].isnull().mean() * 100, 4),  ' % missing values')"
      ],
      "execution_count": null,
      "outputs": [
        {
          "output_type": "stream",
          "text": [
            "Age 6.696  % missing values\n",
            "WorkClass 6.8132  % missing values\n",
            "fnlwgt 6.8059  % missing values\n",
            "Education 6.7009  % missing values\n",
            "EducationNum 6.8474  % missing values\n",
            "MaritalStatus 7.143  % missing values\n",
            "Occupation 6.74  % missing values\n",
            "Relationship 6.8768  % missing values\n",
            "Gender 6.6618  % missing values\n",
            "CapitalGain 6.8548  % missing values\n",
            "CapitalLoss 6.6398  % missing values\n",
            "HoursPerWeek 6.547  % missing values\n",
            "NativeCountry 6.6667  % missing values\n"
          ],
          "name": "stdout"
        }
      ]
    },
    {
      "cell_type": "code",
      "metadata": {
        "id": "NcmTrwgnb2YT"
      },
      "source": [
        "# From above we can observe apart from Income variable all other variables contains NaN values and its 6% hence it should be filled "
      ],
      "execution_count": null,
      "outputs": []
    },
    {
      "cell_type": "code",
      "metadata": {
        "colab": {
          "base_uri": "https://localhost:8080/"
        },
        "id": "mQXJaeOBcO7O",
        "outputId": "725c9ada-1f24-45f0-fa84-4e565621382e"
      },
      "source": [
        "data.info()"
      ],
      "execution_count": null,
      "outputs": [
        {
          "output_type": "stream",
          "text": [
            "<class 'pandas.core.frame.DataFrame'>\n",
            "RangeIndex: 40935 entries, 0 to 40934\n",
            "Data columns (total 15 columns):\n",
            " #   Column         Non-Null Count  Dtype  \n",
            "---  ------         --------------  -----  \n",
            " 0   Unnamed: 0     40935 non-null  int64  \n",
            " 1   Age            38194 non-null  float64\n",
            " 2   WorkClass      38146 non-null  object \n",
            " 3   fnlwgt         38149 non-null  float64\n",
            " 4   Education      38192 non-null  object \n",
            " 5   EducationNum   38132 non-null  float64\n",
            " 6   MaritalStatus  38011 non-null  object \n",
            " 7   Occupation     38176 non-null  object \n",
            " 8   Relationship   38120 non-null  object \n",
            " 9   Gender         38208 non-null  object \n",
            " 10  CapitalGain    38129 non-null  float64\n",
            " 11  CapitalLoss    38217 non-null  float64\n",
            " 12  HoursPerWeek   38255 non-null  float64\n",
            " 13  NativeCountry  38206 non-null  object \n",
            " 14  Income         40935 non-null  object \n",
            "dtypes: float64(6), int64(1), object(8)\n",
            "memory usage: 4.7+ MB\n"
          ],
          "name": "stdout"
        }
      ]
    },
    {
      "cell_type": "code",
      "metadata": {
        "id": "OlffuoELcP_j"
      },
      "source": [
        "#Checking for Duplicate rows "
      ],
      "execution_count": null,
      "outputs": []
    },
    {
      "cell_type": "code",
      "metadata": {
        "id": "gPr76LD4caRv"
      },
      "source": [
        "temp_data=data.append(data)"
      ],
      "execution_count": null,
      "outputs": []
    },
    {
      "cell_type": "code",
      "metadata": {
        "colab": {
          "base_uri": "https://localhost:8080/"
        },
        "id": "0o6SRjCIcmzF",
        "outputId": "d679c1be-584e-49e7-acce-e8023971fe06"
      },
      "source": [
        "temp_data.shape"
      ],
      "execution_count": null,
      "outputs": [
        {
          "output_type": "execute_result",
          "data": {
            "text/plain": [
              "(81870, 15)"
            ]
          },
          "metadata": {
            "tags": []
          },
          "execution_count": 13
        }
      ]
    },
    {
      "cell_type": "code",
      "metadata": {
        "id": "PbZT8RckcoZ8"
      },
      "source": [
        "temp_data.drop_duplicates(inplace=True)"
      ],
      "execution_count": null,
      "outputs": []
    },
    {
      "cell_type": "code",
      "metadata": {
        "colab": {
          "base_uri": "https://localhost:8080/"
        },
        "id": "CY2A2VQCcvuE",
        "outputId": "7ba5814c-0c03-4f60-89be-e700af28a2b0"
      },
      "source": [
        "temp_data.shape"
      ],
      "execution_count": null,
      "outputs": [
        {
          "output_type": "execute_result",
          "data": {
            "text/plain": [
              "(40935, 15)"
            ]
          },
          "metadata": {
            "tags": []
          },
          "execution_count": 15
        }
      ]
    },
    {
      "cell_type": "code",
      "metadata": {
        "id": "7V70ECG1czI9"
      },
      "source": [
        "#From above we can observer there are no Duplicate values available in data"
      ],
      "execution_count": null,
      "outputs": []
    },
    {
      "cell_type": "code",
      "metadata": {
        "id": "fvElfzM-c9LW"
      },
      "source": [
        "# Dropping column Unnamed as its not required since its unique values"
      ],
      "execution_count": null,
      "outputs": []
    },
    {
      "cell_type": "code",
      "metadata": {
        "id": "UTF_hA6HmzmP"
      },
      "source": [
        "data.drop('Unnamed: 0', inplace=True, axis=1)"
      ],
      "execution_count": null,
      "outputs": []
    },
    {
      "cell_type": "code",
      "metadata": {
        "colab": {
          "base_uri": "https://localhost:8080/",
          "height": 558
        },
        "id": "mvjCEUHhm-9S",
        "outputId": "94617a8f-dcb4-4b5e-bd92-313d6a3ddb6d"
      },
      "source": [
        "data"
      ],
      "execution_count": null,
      "outputs": [
        {
          "output_type": "execute_result",
          "data": {
            "text/html": [
              "<div>\n",
              "<style scoped>\n",
              "    .dataframe tbody tr th:only-of-type {\n",
              "        vertical-align: middle;\n",
              "    }\n",
              "\n",
              "    .dataframe tbody tr th {\n",
              "        vertical-align: top;\n",
              "    }\n",
              "\n",
              "    .dataframe thead th {\n",
              "        text-align: right;\n",
              "    }\n",
              "</style>\n",
              "<table border=\"1\" class=\"dataframe\">\n",
              "  <thead>\n",
              "    <tr style=\"text-align: right;\">\n",
              "      <th></th>\n",
              "      <th>Age</th>\n",
              "      <th>WorkClass</th>\n",
              "      <th>fnlwgt</th>\n",
              "      <th>Education</th>\n",
              "      <th>EducationNum</th>\n",
              "      <th>MaritalStatus</th>\n",
              "      <th>Occupation</th>\n",
              "      <th>Relationship</th>\n",
              "      <th>Gender</th>\n",
              "      <th>CapitalGain</th>\n",
              "      <th>CapitalLoss</th>\n",
              "      <th>HoursPerWeek</th>\n",
              "      <th>NativeCountry</th>\n",
              "      <th>Income</th>\n",
              "    </tr>\n",
              "  </thead>\n",
              "  <tbody>\n",
              "    <tr>\n",
              "      <th>0</th>\n",
              "      <td>39.0</td>\n",
              "      <td>State-gov</td>\n",
              "      <td>77516.0</td>\n",
              "      <td>Bachelors</td>\n",
              "      <td>13.0</td>\n",
              "      <td>Never-married</td>\n",
              "      <td>Adm-clerical</td>\n",
              "      <td>Not-in-family</td>\n",
              "      <td>Male</td>\n",
              "      <td>2174.0</td>\n",
              "      <td>0.0</td>\n",
              "      <td>40.0</td>\n",
              "      <td>United-States</td>\n",
              "      <td>&lt;=50K</td>\n",
              "    </tr>\n",
              "    <tr>\n",
              "      <th>1</th>\n",
              "      <td>50.0</td>\n",
              "      <td>Self-emp-not-inc</td>\n",
              "      <td>83311.0</td>\n",
              "      <td>Bachelors</td>\n",
              "      <td>13.0</td>\n",
              "      <td>Married-civ-spouse</td>\n",
              "      <td>NaN</td>\n",
              "      <td>Husband</td>\n",
              "      <td>Male</td>\n",
              "      <td>0.0</td>\n",
              "      <td>0.0</td>\n",
              "      <td>13.0</td>\n",
              "      <td>United-States</td>\n",
              "      <td>&lt;=50K</td>\n",
              "    </tr>\n",
              "    <tr>\n",
              "      <th>2</th>\n",
              "      <td>38.0</td>\n",
              "      <td>Private</td>\n",
              "      <td>215646.0</td>\n",
              "      <td>HS-grad</td>\n",
              "      <td>9.0</td>\n",
              "      <td>Divorced</td>\n",
              "      <td>Handlers-cleaners</td>\n",
              "      <td>Not-in-family</td>\n",
              "      <td>Male</td>\n",
              "      <td>0.0</td>\n",
              "      <td>0.0</td>\n",
              "      <td>40.0</td>\n",
              "      <td>United-States</td>\n",
              "      <td>&lt;=50K</td>\n",
              "    </tr>\n",
              "    <tr>\n",
              "      <th>3</th>\n",
              "      <td>53.0</td>\n",
              "      <td>Private</td>\n",
              "      <td>NaN</td>\n",
              "      <td>NaN</td>\n",
              "      <td>7.0</td>\n",
              "      <td>Married-civ-spouse</td>\n",
              "      <td>Handlers-cleaners</td>\n",
              "      <td>Husband</td>\n",
              "      <td>Male</td>\n",
              "      <td>0.0</td>\n",
              "      <td>NaN</td>\n",
              "      <td>40.0</td>\n",
              "      <td>United-States</td>\n",
              "      <td>&lt;=50K</td>\n",
              "    </tr>\n",
              "    <tr>\n",
              "      <th>4</th>\n",
              "      <td>28.0</td>\n",
              "      <td>Private</td>\n",
              "      <td>338409.0</td>\n",
              "      <td>Bachelors</td>\n",
              "      <td>13.0</td>\n",
              "      <td>Married-civ-spouse</td>\n",
              "      <td>Prof-specialty</td>\n",
              "      <td>Wife</td>\n",
              "      <td>NaN</td>\n",
              "      <td>0.0</td>\n",
              "      <td>0.0</td>\n",
              "      <td>40.0</td>\n",
              "      <td>Cuba</td>\n",
              "      <td>&lt;=50K</td>\n",
              "    </tr>\n",
              "    <tr>\n",
              "      <th>...</th>\n",
              "      <td>...</td>\n",
              "      <td>...</td>\n",
              "      <td>...</td>\n",
              "      <td>...</td>\n",
              "      <td>...</td>\n",
              "      <td>...</td>\n",
              "      <td>...</td>\n",
              "      <td>...</td>\n",
              "      <td>...</td>\n",
              "      <td>...</td>\n",
              "      <td>...</td>\n",
              "      <td>...</td>\n",
              "      <td>...</td>\n",
              "      <td>...</td>\n",
              "    </tr>\n",
              "    <tr>\n",
              "      <th>40930</th>\n",
              "      <td>39.0</td>\n",
              "      <td>Private</td>\n",
              "      <td>215419.0</td>\n",
              "      <td>Bachelors</td>\n",
              "      <td>13.0</td>\n",
              "      <td>Divorced</td>\n",
              "      <td>Prof-specialty</td>\n",
              "      <td>Not-in-family</td>\n",
              "      <td>Female</td>\n",
              "      <td>0.0</td>\n",
              "      <td>0.0</td>\n",
              "      <td>36.0</td>\n",
              "      <td>United-States</td>\n",
              "      <td>&lt;=50K.</td>\n",
              "    </tr>\n",
              "    <tr>\n",
              "      <th>40931</th>\n",
              "      <td>64.0</td>\n",
              "      <td>?</td>\n",
              "      <td>321403.0</td>\n",
              "      <td>HS-grad</td>\n",
              "      <td>9.0</td>\n",
              "      <td>Widowed</td>\n",
              "      <td>?</td>\n",
              "      <td>Other-relative</td>\n",
              "      <td>Male</td>\n",
              "      <td>0.0</td>\n",
              "      <td>0.0</td>\n",
              "      <td>40.0</td>\n",
              "      <td>United-States</td>\n",
              "      <td>&lt;=50K.</td>\n",
              "    </tr>\n",
              "    <tr>\n",
              "      <th>40932</th>\n",
              "      <td>38.0</td>\n",
              "      <td>Private</td>\n",
              "      <td>374983.0</td>\n",
              "      <td>Bachelors</td>\n",
              "      <td>13.0</td>\n",
              "      <td>Married-civ-spouse</td>\n",
              "      <td>Prof-specialty</td>\n",
              "      <td>Husband</td>\n",
              "      <td>Male</td>\n",
              "      <td>0.0</td>\n",
              "      <td>0.0</td>\n",
              "      <td>50.0</td>\n",
              "      <td>United-States</td>\n",
              "      <td>&lt;=50K.</td>\n",
              "    </tr>\n",
              "    <tr>\n",
              "      <th>40933</th>\n",
              "      <td>44.0</td>\n",
              "      <td>Private</td>\n",
              "      <td>83891.0</td>\n",
              "      <td>Bachelors</td>\n",
              "      <td>13.0</td>\n",
              "      <td>Divorced</td>\n",
              "      <td>Adm-clerical</td>\n",
              "      <td>Own-child</td>\n",
              "      <td>Male</td>\n",
              "      <td>5455.0</td>\n",
              "      <td>0.0</td>\n",
              "      <td>40.0</td>\n",
              "      <td>United-States</td>\n",
              "      <td>&lt;=50K.</td>\n",
              "    </tr>\n",
              "    <tr>\n",
              "      <th>40934</th>\n",
              "      <td>35.0</td>\n",
              "      <td>Self-emp-inc</td>\n",
              "      <td>182148.0</td>\n",
              "      <td>Bachelors</td>\n",
              "      <td>13.0</td>\n",
              "      <td>Married-civ-spouse</td>\n",
              "      <td>Exec-managerial</td>\n",
              "      <td>Husband</td>\n",
              "      <td>Male</td>\n",
              "      <td>0.0</td>\n",
              "      <td>0.0</td>\n",
              "      <td>60.0</td>\n",
              "      <td>United-States</td>\n",
              "      <td>&gt;50K.</td>\n",
              "    </tr>\n",
              "  </tbody>\n",
              "</table>\n",
              "<p>40935 rows × 14 columns</p>\n",
              "</div>"
            ],
            "text/plain": [
              "        Age          WorkClass    fnlwgt  ... HoursPerWeek   NativeCountry   Income\n",
              "0      39.0          State-gov   77516.0  ...         40.0   United-States    <=50K\n",
              "1      50.0   Self-emp-not-inc   83311.0  ...         13.0   United-States    <=50K\n",
              "2      38.0            Private  215646.0  ...         40.0   United-States    <=50K\n",
              "3      53.0            Private       NaN  ...         40.0   United-States    <=50K\n",
              "4      28.0            Private  338409.0  ...         40.0            Cuba    <=50K\n",
              "...     ...                ...       ...  ...          ...             ...      ...\n",
              "40930  39.0            Private  215419.0  ...         36.0   United-States   <=50K.\n",
              "40931  64.0                  ?  321403.0  ...         40.0   United-States   <=50K.\n",
              "40932  38.0            Private  374983.0  ...         50.0   United-States   <=50K.\n",
              "40933  44.0            Private   83891.0  ...         40.0   United-States   <=50K.\n",
              "40934  35.0       Self-emp-inc  182148.0  ...         60.0   United-States    >50K.\n",
              "\n",
              "[40935 rows x 14 columns]"
            ]
          },
          "metadata": {
            "tags": []
          },
          "execution_count": 19
        }
      ]
    },
    {
      "cell_type": "code",
      "metadata": {
        "colab": {
          "base_uri": "https://localhost:8080/",
          "height": 297
        },
        "id": "QOvraRN7nFaA",
        "outputId": "cfaede27-bb11-469a-aec2-a941c990e765"
      },
      "source": [
        "data.describe() # From below we can observe that given data doensot conntains any negative values)"
      ],
      "execution_count": null,
      "outputs": [
        {
          "output_type": "execute_result",
          "data": {
            "text/html": [
              "<div>\n",
              "<style scoped>\n",
              "    .dataframe tbody tr th:only-of-type {\n",
              "        vertical-align: middle;\n",
              "    }\n",
              "\n",
              "    .dataframe tbody tr th {\n",
              "        vertical-align: top;\n",
              "    }\n",
              "\n",
              "    .dataframe thead th {\n",
              "        text-align: right;\n",
              "    }\n",
              "</style>\n",
              "<table border=\"1\" class=\"dataframe\">\n",
              "  <thead>\n",
              "    <tr style=\"text-align: right;\">\n",
              "      <th></th>\n",
              "      <th>Age</th>\n",
              "      <th>fnlwgt</th>\n",
              "      <th>EducationNum</th>\n",
              "      <th>CapitalGain</th>\n",
              "      <th>CapitalLoss</th>\n",
              "      <th>HoursPerWeek</th>\n",
              "    </tr>\n",
              "  </thead>\n",
              "  <tbody>\n",
              "    <tr>\n",
              "      <th>count</th>\n",
              "      <td>38194.000000</td>\n",
              "      <td>3.814900e+04</td>\n",
              "      <td>38132.000000</td>\n",
              "      <td>38129.000000</td>\n",
              "      <td>38217.000000</td>\n",
              "      <td>38255.000000</td>\n",
              "    </tr>\n",
              "    <tr>\n",
              "      <th>mean</th>\n",
              "      <td>38.591585</td>\n",
              "      <td>1.898043e+05</td>\n",
              "      <td>10.080169</td>\n",
              "      <td>1076.079467</td>\n",
              "      <td>88.536934</td>\n",
              "      <td>40.407136</td>\n",
              "    </tr>\n",
              "    <tr>\n",
              "      <th>std</th>\n",
              "      <td>13.682749</td>\n",
              "      <td>1.059296e+05</td>\n",
              "      <td>2.570247</td>\n",
              "      <td>7440.867512</td>\n",
              "      <td>406.104097</td>\n",
              "      <td>12.432823</td>\n",
              "    </tr>\n",
              "    <tr>\n",
              "      <th>min</th>\n",
              "      <td>17.000000</td>\n",
              "      <td>1.228500e+04</td>\n",
              "      <td>1.000000</td>\n",
              "      <td>0.000000</td>\n",
              "      <td>0.000000</td>\n",
              "      <td>1.000000</td>\n",
              "    </tr>\n",
              "    <tr>\n",
              "      <th>25%</th>\n",
              "      <td>28.000000</td>\n",
              "      <td>1.174440e+05</td>\n",
              "      <td>9.000000</td>\n",
              "      <td>0.000000</td>\n",
              "      <td>0.000000</td>\n",
              "      <td>40.000000</td>\n",
              "    </tr>\n",
              "    <tr>\n",
              "      <th>50%</th>\n",
              "      <td>37.000000</td>\n",
              "      <td>1.782510e+05</td>\n",
              "      <td>10.000000</td>\n",
              "      <td>0.000000</td>\n",
              "      <td>0.000000</td>\n",
              "      <td>40.000000</td>\n",
              "    </tr>\n",
              "    <tr>\n",
              "      <th>75%</th>\n",
              "      <td>48.000000</td>\n",
              "      <td>2.378680e+05</td>\n",
              "      <td>12.000000</td>\n",
              "      <td>0.000000</td>\n",
              "      <td>0.000000</td>\n",
              "      <td>45.000000</td>\n",
              "    </tr>\n",
              "    <tr>\n",
              "      <th>max</th>\n",
              "      <td>90.000000</td>\n",
              "      <td>1.490400e+06</td>\n",
              "      <td>16.000000</td>\n",
              "      <td>99999.000000</td>\n",
              "      <td>4356.000000</td>\n",
              "      <td>99.000000</td>\n",
              "    </tr>\n",
              "  </tbody>\n",
              "</table>\n",
              "</div>"
            ],
            "text/plain": [
              "                Age        fnlwgt  ...   CapitalLoss  HoursPerWeek\n",
              "count  38194.000000  3.814900e+04  ...  38217.000000  38255.000000\n",
              "mean      38.591585  1.898043e+05  ...     88.536934     40.407136\n",
              "std       13.682749  1.059296e+05  ...    406.104097     12.432823\n",
              "min       17.000000  1.228500e+04  ...      0.000000      1.000000\n",
              "25%       28.000000  1.174440e+05  ...      0.000000     40.000000\n",
              "50%       37.000000  1.782510e+05  ...      0.000000     40.000000\n",
              "75%       48.000000  2.378680e+05  ...      0.000000     45.000000\n",
              "max       90.000000  1.490400e+06  ...   4356.000000     99.000000\n",
              "\n",
              "[8 rows x 6 columns]"
            ]
          },
          "metadata": {
            "tags": []
          },
          "execution_count": 20
        }
      ]
    },
    {
      "cell_type": "code",
      "metadata": {
        "id": "sZr8i647nKDV",
        "colab": {
          "base_uri": "https://localhost:8080/",
          "height": 204
        },
        "outputId": "96c3785d-b0aa-4429-924d-665f6493aa88"
      },
      "source": [
        "features_numeric=[feature for feature in data.columns if data[feature].dtypes!='O']\r\n",
        "data[features_numeric].head()"
      ],
      "execution_count": null,
      "outputs": [
        {
          "output_type": "execute_result",
          "data": {
            "text/html": [
              "<div>\n",
              "<style scoped>\n",
              "    .dataframe tbody tr th:only-of-type {\n",
              "        vertical-align: middle;\n",
              "    }\n",
              "\n",
              "    .dataframe tbody tr th {\n",
              "        vertical-align: top;\n",
              "    }\n",
              "\n",
              "    .dataframe thead th {\n",
              "        text-align: right;\n",
              "    }\n",
              "</style>\n",
              "<table border=\"1\" class=\"dataframe\">\n",
              "  <thead>\n",
              "    <tr style=\"text-align: right;\">\n",
              "      <th></th>\n",
              "      <th>Age</th>\n",
              "      <th>fnlwgt</th>\n",
              "      <th>EducationNum</th>\n",
              "      <th>CapitalGain</th>\n",
              "      <th>CapitalLoss</th>\n",
              "      <th>HoursPerWeek</th>\n",
              "    </tr>\n",
              "  </thead>\n",
              "  <tbody>\n",
              "    <tr>\n",
              "      <th>0</th>\n",
              "      <td>39.0</td>\n",
              "      <td>77516.0</td>\n",
              "      <td>13.0</td>\n",
              "      <td>2174.0</td>\n",
              "      <td>0.0</td>\n",
              "      <td>40.0</td>\n",
              "    </tr>\n",
              "    <tr>\n",
              "      <th>1</th>\n",
              "      <td>50.0</td>\n",
              "      <td>83311.0</td>\n",
              "      <td>13.0</td>\n",
              "      <td>0.0</td>\n",
              "      <td>0.0</td>\n",
              "      <td>13.0</td>\n",
              "    </tr>\n",
              "    <tr>\n",
              "      <th>2</th>\n",
              "      <td>38.0</td>\n",
              "      <td>215646.0</td>\n",
              "      <td>9.0</td>\n",
              "      <td>0.0</td>\n",
              "      <td>0.0</td>\n",
              "      <td>40.0</td>\n",
              "    </tr>\n",
              "    <tr>\n",
              "      <th>3</th>\n",
              "      <td>53.0</td>\n",
              "      <td>NaN</td>\n",
              "      <td>7.0</td>\n",
              "      <td>0.0</td>\n",
              "      <td>NaN</td>\n",
              "      <td>40.0</td>\n",
              "    </tr>\n",
              "    <tr>\n",
              "      <th>4</th>\n",
              "      <td>28.0</td>\n",
              "      <td>338409.0</td>\n",
              "      <td>13.0</td>\n",
              "      <td>0.0</td>\n",
              "      <td>0.0</td>\n",
              "      <td>40.0</td>\n",
              "    </tr>\n",
              "  </tbody>\n",
              "</table>\n",
              "</div>"
            ],
            "text/plain": [
              "    Age    fnlwgt  EducationNum  CapitalGain  CapitalLoss  HoursPerWeek\n",
              "0  39.0   77516.0          13.0       2174.0          0.0          40.0\n",
              "1  50.0   83311.0          13.0          0.0          0.0          13.0\n",
              "2  38.0  215646.0           9.0          0.0          0.0          40.0\n",
              "3  53.0       NaN           7.0          0.0          NaN          40.0\n",
              "4  28.0  338409.0          13.0          0.0          0.0          40.0"
            ]
          },
          "metadata": {
            "tags": []
          },
          "execution_count": 21
        }
      ]
    },
    {
      "cell_type": "code",
      "metadata": {
        "colab": {
          "base_uri": "https://localhost:8080/"
        },
        "id": "1fTcBKCjoPit",
        "outputId": "10ec9329-0e91-4e4a-ec01-d339ef33a278"
      },
      "source": [
        "for feature in features_numeric:\r\n",
        "  print(feature,\"Mean:\",data[feature].mean())"
      ],
      "execution_count": null,
      "outputs": [
        {
          "output_type": "stream",
          "text": [
            "Age Mean: 38.591585065717126\n",
            "fnlwgt Mean: 189804.29754384124\n",
            "EducationNum Mean: 10.080168887024023\n",
            "CapitalGain Mean: 1076.0794670723071\n",
            "CapitalLoss Mean: 88.53693382526102\n",
            "HoursPerWeek Mean: 40.4071363220494\n"
          ],
          "name": "stdout"
        }
      ]
    },
    {
      "cell_type": "code",
      "metadata": {
        "colab": {
          "base_uri": "https://localhost:8080/"
        },
        "id": "F7v1s7Msoaih",
        "outputId": "315e82b2-69ed-45ae-ad51-f34f489fd2df"
      },
      "source": [
        "for feature in features_numeric:\r\n",
        "  print(feature,\"Median:\",data[feature].median())"
      ],
      "execution_count": null,
      "outputs": [
        {
          "output_type": "stream",
          "text": [
            "Age Median: 37.0\n",
            "fnlwgt Median: 178251.0\n",
            "EducationNum Median: 10.0\n",
            "CapitalGain Median: 0.0\n",
            "CapitalLoss Median: 0.0\n",
            "HoursPerWeek Median: 40.0\n"
          ],
          "name": "stdout"
        }
      ]
    },
    {
      "cell_type": "code",
      "metadata": {
        "id": "dJrui2i6ow0X"
      },
      "source": [
        "data['Income'] = data['Income'].str.strip() # Removes the White Spaces leading and trail"
      ],
      "execution_count": null,
      "outputs": []
    },
    {
      "cell_type": "code",
      "metadata": {
        "colab": {
          "base_uri": "https://localhost:8080/"
        },
        "id": "u2vlk2XNxpUz",
        "outputId": "e70cc361-2595-4d14-b04f-96a765349d54"
      },
      "source": [
        "data.shape"
      ],
      "execution_count": null,
      "outputs": [
        {
          "output_type": "execute_result",
          "data": {
            "text/plain": [
              "(40935, 14)"
            ]
          },
          "metadata": {
            "tags": []
          },
          "execution_count": 25
        }
      ]
    },
    {
      "cell_type": "code",
      "metadata": {
        "colab": {
          "base_uri": "https://localhost:8080/"
        },
        "id": "igcV-oEtp0vD",
        "outputId": "7bf0fe2b-d1a1-4f14-a4a8-be71b45e7222"
      },
      "source": [
        "data.Income.value_counts()"
      ],
      "execution_count": null,
      "outputs": [
        {
          "output_type": "execute_result",
          "data": {
            "text/plain": [
              "<=50K     21121\n",
              "<=50K.    10002\n",
              ">50K       6719\n",
              ">50K.      3093\n",
              "Name: Income, dtype: int64"
            ]
          },
          "metadata": {
            "tags": []
          },
          "execution_count": 26
        }
      ]
    },
    {
      "cell_type": "code",
      "metadata": {
        "colab": {
          "base_uri": "https://localhost:8080/"
        },
        "id": "nNfwe1H-p3e1",
        "outputId": "e877891f-fb57-4e69-c273-70072623acbb"
      },
      "source": [
        "data.Income.replace({'<=50K.':'<=50K'},inplace=True)\r\n",
        "data.Income.replace({'>50K.':'>50K'},inplace=True)\r\n",
        "data.Income.value_counts()"
      ],
      "execution_count": null,
      "outputs": [
        {
          "output_type": "execute_result",
          "data": {
            "text/plain": [
              "<=50K    31123\n",
              ">50K      9812\n",
              "Name: Income, dtype: int64"
            ]
          },
          "metadata": {
            "tags": []
          },
          "execution_count": 27
        }
      ]
    },
    {
      "cell_type": "code",
      "metadata": {
        "colab": {
          "base_uri": "https://localhost:8080/",
          "height": 350
        },
        "id": "c-HFZ4LPqCiK",
        "outputId": "18aba664-eba2-459a-a076-ee29bc04c6c3"
      },
      "source": [
        "sns.countplot(data.Income)"
      ],
      "execution_count": null,
      "outputs": [
        {
          "output_type": "stream",
          "text": [
            "/usr/local/lib/python3.6/dist-packages/seaborn/_decorators.py:43: FutureWarning: Pass the following variable as a keyword arg: x. From version 0.12, the only valid positional argument will be `data`, and passing other arguments without an explicit keyword will result in an error or misinterpretation.\n",
            "  FutureWarning\n"
          ],
          "name": "stderr"
        },
        {
          "output_type": "execute_result",
          "data": {
            "text/plain": [
              "<matplotlib.axes._subplots.AxesSubplot at 0x7fb902de96d8>"
            ]
          },
          "metadata": {
            "tags": []
          },
          "execution_count": 28
        },
        {
          "output_type": "display_data",
          "data": {
            "image/png": "[encoded data removed]",
            "text/plain": [
              "<Figure size 432x288 with 1 Axes>"
            ]
          },
          "metadata": {
            "tags": [],
            "needs_background": "light"
          }
        }
      ]
    },
    {
      "cell_type": "markdown",
      "metadata": {
        "id": "v-BnR3BPqSPn"
      },
      "source": [
        "Age"
      ]
    },
    {
      "cell_type": "code",
      "metadata": {
        "colab": {
          "base_uri": "https://localhost:8080/",
          "height": 350
        },
        "id": "BawiMJgwqIXw",
        "outputId": "6d246004-c970-4d07-ff4d-46a883a6427f"
      },
      "source": [
        "sns.boxplot(data['Age'])"
      ],
      "execution_count": null,
      "outputs": [
        {
          "output_type": "stream",
          "text": [
            "/usr/local/lib/python3.6/dist-packages/seaborn/_decorators.py:43: FutureWarning: Pass the following variable as a keyword arg: x. From version 0.12, the only valid positional argument will be `data`, and passing other arguments without an explicit keyword will result in an error or misinterpretation.\n",
            "  FutureWarning\n"
          ],
          "name": "stderr"
        },
        {
          "output_type": "execute_result",
          "data": {
            "text/plain": [
              "<matplotlib.axes._subplots.AxesSubplot at 0x7fb902be2390>"
            ]
          },
          "metadata": {
            "tags": []
          },
          "execution_count": 29
        },
        {
          "output_type": "display_data",
          "data": {
            "image/png": "[encoded data removed]",
            "text/plain": [
              "<Figure size 432x288 with 1 Axes>"
            ]
          },
          "metadata": {
            "tags": [],
            "needs_background": "light"
          }
        }
      ]
    },
    {
      "cell_type": "markdown",
      "metadata": {
        "id": "00-O2I59qezD"
      },
      "source": [
        "Filling NaN values for continuous variables with Mean Imputation"
      ]
    },
    {
      "cell_type": "code",
      "metadata": {
        "colab": {
          "base_uri": "https://localhost:8080/"
        },
        "id": "nZ4fuGVD4vAd",
        "outputId": "8bcd30b3-bb28-4d9d-ac04-5b9a5118de29"
      },
      "source": [
        "data.shape"
      ],
      "execution_count": null,
      "outputs": [
        {
          "output_type": "execute_result",
          "data": {
            "text/plain": [
              "(40935, 14)"
            ]
          },
          "metadata": {
            "tags": []
          },
          "execution_count": 30
        }
      ]
    },
    {
      "cell_type": "code",
      "metadata": {
        "id": "MYuCp-_gqWRF"
      },
      "source": [
        "for feature in features_numeric:\r\n",
        "  data[feature].fillna(data[feature].mean(),inplace=True)"
      ],
      "execution_count": null,
      "outputs": []
    },
    {
      "cell_type": "code",
      "metadata": {
        "colab": {
          "base_uri": "https://localhost:8080/"
        },
        "id": "z7cYG8eKrGSR",
        "outputId": "cdb379eb-ce4b-4951-b284-a3650802fb5f"
      },
      "source": [
        "data.isnull().sum()"
      ],
      "execution_count": null,
      "outputs": [
        {
          "output_type": "execute_result",
          "data": {
            "text/plain": [
              "Age                 0\n",
              "WorkClass        2789\n",
              "fnlwgt              0\n",
              "Education        2743\n",
              "EducationNum        0\n",
              "MaritalStatus    2924\n",
              "Occupation       2759\n",
              "Relationship     2815\n",
              "Gender           2727\n",
              "CapitalGain         0\n",
              "CapitalLoss         0\n",
              "HoursPerWeek        0\n",
              "NativeCountry    2729\n",
              "Income              0\n",
              "dtype: int64"
            ]
          },
          "metadata": {
            "tags": []
          },
          "execution_count": 32
        }
      ]
    },
    {
      "cell_type": "code",
      "metadata": {
        "id": "SKI6HOJ6rNPe"
      },
      "source": [
        "# Filled Numeric Variables"
      ],
      "execution_count": null,
      "outputs": []
    },
    {
      "cell_type": "code",
      "metadata": {
        "colab": {
          "base_uri": "https://localhost:8080/"
        },
        "id": "hsBwAwyUrRVe",
        "outputId": "807fdf9e-9cd8-4f41-feff-5259da094ad4"
      },
      "source": [
        "data.info()"
      ],
      "execution_count": null,
      "outputs": [
        {
          "output_type": "stream",
          "text": [
            "<class 'pandas.core.frame.DataFrame'>\n",
            "RangeIndex: 40935 entries, 0 to 40934\n",
            "Data columns (total 14 columns):\n",
            " #   Column         Non-Null Count  Dtype  \n",
            "---  ------         --------------  -----  \n",
            " 0   Age            40935 non-null  float64\n",
            " 1   WorkClass      38146 non-null  object \n",
            " 2   fnlwgt         40935 non-null  float64\n",
            " 3   Education      38192 non-null  object \n",
            " 4   EducationNum   40935 non-null  float64\n",
            " 5   MaritalStatus  38011 non-null  object \n",
            " 6   Occupation     38176 non-null  object \n",
            " 7   Relationship   38120 non-null  object \n",
            " 8   Gender         38208 non-null  object \n",
            " 9   CapitalGain    40935 non-null  float64\n",
            " 10  CapitalLoss    40935 non-null  float64\n",
            " 11  HoursPerWeek   40935 non-null  float64\n",
            " 12  NativeCountry  38206 non-null  object \n",
            " 13  Income         40935 non-null  object \n",
            "dtypes: float64(6), object(8)\n",
            "memory usage: 4.4+ MB\n"
          ],
          "name": "stdout"
        }
      ]
    },
    {
      "cell_type": "code",
      "metadata": {
        "colab": {
          "base_uri": "https://localhost:8080/",
          "height": 350
        },
        "id": "hg0xV0KYrgKV",
        "outputId": "86ed7226-26d1-4f09-8d0b-d3559c6609e5"
      },
      "source": [
        "plt.figure(figsize=[10,4])\r\n",
        "sns.boxplot(data.fnlwgt)"
      ],
      "execution_count": null,
      "outputs": [
        {
          "output_type": "stream",
          "text": [
            "/usr/local/lib/python3.6/dist-packages/seaborn/_decorators.py:43: FutureWarning: Pass the following variable as a keyword arg: x. From version 0.12, the only valid positional argument will be `data`, and passing other arguments without an explicit keyword will result in an error or misinterpretation.\n",
            "  FutureWarning\n"
          ],
          "name": "stderr"
        },
        {
          "output_type": "execute_result",
          "data": {
            "text/plain": [
              "<matplotlib.axes._subplots.AxesSubplot at 0x7fb90274d710>"
            ]
          },
          "metadata": {
            "tags": []
          },
          "execution_count": 35
        },
        {
          "output_type": "display_data",
          "data": {
            "image/png": "[encoded data removed]",
            "text/plain": [
              "<Figure size 720x288 with 1 Axes>"
            ]
          },
          "metadata": {
            "tags": [],
            "needs_background": "light"
          }
        }
      ]
    },
    {
      "cell_type": "code",
      "metadata": {
        "colab": {
          "base_uri": "https://localhost:8080/"
        },
        "id": "KTYqKPeuwo57",
        "outputId": "a6271033-29ae-43e3-e4b5-d77cddff1f96"
      },
      "source": [
        "data.shape"
      ],
      "execution_count": null,
      "outputs": [
        {
          "output_type": "execute_result",
          "data": {
            "text/plain": [
              "(40935, 14)"
            ]
          },
          "metadata": {
            "tags": []
          },
          "execution_count": 36
        }
      ]
    },
    {
      "cell_type": "code",
      "metadata": {
        "id": "4y__DkJrrn02"
      },
      "source": [
        "data = data[data.fnlwgt <800000]"
      ],
      "execution_count": null,
      "outputs": []
    },
    {
      "cell_type": "code",
      "metadata": {
        "colab": {
          "base_uri": "https://localhost:8080/"
        },
        "id": "FGXKQkCTwr-k",
        "outputId": "5e0e5986-a67e-4f92-f064-a22854729d8c"
      },
      "source": [
        "data.shape"
      ],
      "execution_count": null,
      "outputs": [
        {
          "output_type": "execute_result",
          "data": {
            "text/plain": [
              "(40896, 14)"
            ]
          },
          "metadata": {
            "tags": []
          },
          "execution_count": 38
        }
      ]
    },
    {
      "cell_type": "code",
      "metadata": {
        "colab": {
          "base_uri": "https://localhost:8080/",
          "height": 350
        },
        "id": "izc3LgK0sIC9",
        "outputId": "688b61f6-5745-4601-fecf-31200f9d8099"
      },
      "source": [
        "sns.boxplot(data.fnlwgt)"
      ],
      "execution_count": null,
      "outputs": [
        {
          "output_type": "stream",
          "text": [
            "/usr/local/lib/python3.6/dist-packages/seaborn/_decorators.py:43: FutureWarning: Pass the following variable as a keyword arg: x. From version 0.12, the only valid positional argument will be `data`, and passing other arguments without an explicit keyword will result in an error or misinterpretation.\n",
            "  FutureWarning\n"
          ],
          "name": "stderr"
        },
        {
          "output_type": "execute_result",
          "data": {
            "text/plain": [
              "<matplotlib.axes._subplots.AxesSubplot at 0x7fb9026529e8>"
            ]
          },
          "metadata": {
            "tags": []
          },
          "execution_count": 39
        },
        {
          "output_type": "display_data",
          "data": {
            "image/png": "[encoded data removed]",
            "text/plain": [
              "<Figure size 432x288 with 1 Axes>"
            ]
          },
          "metadata": {
            "tags": [],
            "needs_background": "light"
          }
        }
      ]
    },
    {
      "cell_type": "code",
      "metadata": {
        "colab": {
          "base_uri": "https://localhost:8080/",
          "height": 350
        },
        "id": "N53KwRotsNrv",
        "outputId": "77edeb92-52b9-4791-ba21-6dfdde63a684"
      },
      "source": [
        "plt.figure(figsize=[10,4])\r\n",
        "sns.boxplot(data.EducationNum)"
      ],
      "execution_count": null,
      "outputs": [
        {
          "output_type": "stream",
          "text": [
            "/usr/local/lib/python3.6/dist-packages/seaborn/_decorators.py:43: FutureWarning: Pass the following variable as a keyword arg: x. From version 0.12, the only valid positional argument will be `data`, and passing other arguments without an explicit keyword will result in an error or misinterpretation.\n",
            "  FutureWarning\n"
          ],
          "name": "stderr"
        },
        {
          "output_type": "execute_result",
          "data": {
            "text/plain": [
              "<matplotlib.axes._subplots.AxesSubplot at 0x7fb901bab978>"
            ]
          },
          "metadata": {
            "tags": []
          },
          "execution_count": 40
        },
        {
          "output_type": "display_data",
          "data": {
            "image/png": "[encoded data removed]",
            "text/plain": [
              "<Figure size 720x288 with 1 Axes>"
            ]
          },
          "metadata": {
            "tags": [],
            "needs_background": "light"
          }
        }
      ]
    },
    {
      "cell_type": "code",
      "metadata": {
        "colab": {
          "base_uri": "https://localhost:8080/",
          "height": 1000
        },
        "id": "02iNDp1rtk5s",
        "outputId": "89fcd518-6dd2-4a35-9158-35d4b8c19b75"
      },
      "source": [
        "for feature in features_numeric:\r\n",
        "  plt.figure(figsize=[10,4])\r\n",
        "  sns.boxplot(data[feature])"
      ],
      "execution_count": null,
      "outputs": [
        {
          "output_type": "stream",
          "text": [
            "/usr/local/lib/python3.6/dist-packages/seaborn/_decorators.py:43: FutureWarning: Pass the following variable as a keyword arg: x. From version 0.12, the only valid positional argument will be `data`, and passing other arguments without an explicit keyword will result in an error or misinterpretation.\n",
            "  FutureWarning\n",
            "/usr/local/lib/python3.6/dist-packages/seaborn/_decorators.py:43: FutureWarning: Pass the following variable as a keyword arg: x. From version 0.12, the only valid positional argument will be `data`, and passing other arguments without an explicit keyword will result in an error or misinterpretation.\n",
            "  FutureWarning\n",
            "/usr/local/lib/python3.6/dist-packages/seaborn/_decorators.py:43: FutureWarning: Pass the following variable as a keyword arg: x. From version 0.12, the only valid positional argument will be `data`, and passing other arguments without an explicit keyword will result in an error or misinterpretation.\n",
            "  FutureWarning\n",
            "/usr/local/lib/python3.6/dist-packages/seaborn/_decorators.py:43: FutureWarning: Pass the following variable as a keyword arg: x. From version 0.12, the only valid positional argument will be `data`, and passing other arguments without an explicit keyword will result in an error or misinterpretation.\n",
            "  FutureWarning\n",
            "/usr/local/lib/python3.6/dist-packages/seaborn/_decorators.py:43: FutureWarning: Pass the following variable as a keyword arg: x. From version 0.12, the only valid positional argument will be `data`, and passing other arguments without an explicit keyword will result in an error or misinterpretation.\n",
            "  FutureWarning\n",
            "/usr/local/lib/python3.6/dist-packages/seaborn/_decorators.py:43: FutureWarning: Pass the following variable as a keyword arg: x. From version 0.12, the only valid positional argument will be `data`, and passing other arguments without an explicit keyword will result in an error or misinterpretation.\n",
            "  FutureWarning\n"
          ],
          "name": "stderr"
        },
        {
          "output_type": "display_data",
          "data": {
            "image/png": "[encoded data removed]",
            "text/plain": [
              "<Figure size 720x288 with 1 Axes>"
            ]
          },
          "metadata": {
            "tags": [],
            "needs_background": "light"
          }
        },
        {
          "output_type": "display_data",
          "data": {
            "image/png": "[encoded data removed]",
            "text/plain": [
              "<Figure size 720x288 with 1 Axes>"
            ]
          },
          "metadata": {
            "tags": [],
            "needs_background": "light"
          }
        },
        {
          "output_type": "display_data",
          "data": {
            "image/png": "[encoded data removed]",
            "text/plain": [
              "<Figure size 720x288 with 1 Axes>"
            ]
          },
          "metadata": {
            "tags": [],
            "needs_background": "light"
          }
        },
        {
          "output_type": "display_data",
          "data": {
            "image/png": "[encoded data removed]",
            "text/plain": [
              "<Figure size 720x288 with 1 Axes>"
            ]
          },
          "metadata": {
            "tags": [],
            "needs_background": "light"
          }
        },
        {
          "output_type": "display_data",
          "data": {
            "image/png": "[encoded data removed]",
            "text/plain": [
              "<Figure size 720x288 with 1 Axes>"
            ]
          },
          "metadata": {
            "tags": [],
            "needs_background": "light"
          }
        },
        {
          "output_type": "display_data",
          "data": {
            "image/png": "[encoded data removed]",
            "text/plain": [
              "<Figure size 720x288 with 1 Axes>"
            ]
          },
          "metadata": {
            "tags": [],
            "needs_background": "light"
          }
        }
      ]
    },
    {
      "cell_type": "code",
      "metadata": {
        "id": "z_Qge4CKtr_T"
      },
      "source": [
        "data= data[data.CapitalGain <12000]"
      ],
      "execution_count": null,
      "outputs": []
    },
    {
      "cell_type": "code",
      "metadata": {
        "colab": {
          "base_uri": "https://localhost:8080/"
        },
        "id": "Cjiif6UAuelw",
        "outputId": "d05db4b0-eea1-49b8-bccc-cd14e910e8b1"
      },
      "source": [
        "data[features_numeric].isnull().sum()"
      ],
      "execution_count": null,
      "outputs": [
        {
          "output_type": "execute_result",
          "data": {
            "text/plain": [
              "Age             0\n",
              "fnlwgt          0\n",
              "EducationNum    0\n",
              "CapitalGain     0\n",
              "CapitalLoss     0\n",
              "HoursPerWeek    0\n",
              "dtype: int64"
            ]
          },
          "metadata": {
            "tags": []
          },
          "execution_count": 43
        }
      ]
    },
    {
      "cell_type": "code",
      "metadata": {
        "colab": {
          "base_uri": "https://localhost:8080/"
        },
        "id": "KELmmYJn37kt",
        "outputId": "20f60788-a4b9-4c4d-cff2-04029ab46711"
      },
      "source": [
        "data.shape"
      ],
      "execution_count": null,
      "outputs": [
        {
          "output_type": "execute_result",
          "data": {
            "text/plain": [
              "(40082, 14)"
            ]
          },
          "metadata": {
            "tags": []
          },
          "execution_count": 44
        }
      ]
    },
    {
      "cell_type": "markdown",
      "metadata": {
        "id": "NkLjWS2iunBm"
      },
      "source": [
        "**Categorical Variables**"
      ]
    },
    {
      "cell_type": "code",
      "metadata": {
        "colab": {
          "base_uri": "https://localhost:8080/",
          "height": 204
        },
        "id": "rX05hIUvumgi",
        "outputId": "1cabe313-ec4c-4837-8121-3050be6fbe3a"
      },
      "source": [
        "features_categorical=[feature for feature in data.columns if data[feature].dtypes=='O']\r\n",
        "data[features_categorical].head()"
      ],
      "execution_count": null,
      "outputs": [
        {
          "output_type": "execute_result",
          "data": {
            "text/html": [
              "<div>\n",
              "<style scoped>\n",
              "    .dataframe tbody tr th:only-of-type {\n",
              "        vertical-align: middle;\n",
              "    }\n",
              "\n",
              "    .dataframe tbody tr th {\n",
              "        vertical-align: top;\n",
              "    }\n",
              "\n",
              "    .dataframe thead th {\n",
              "        text-align: right;\n",
              "    }\n",
              "</style>\n",
              "<table border=\"1\" class=\"dataframe\">\n",
              "  <thead>\n",
              "    <tr style=\"text-align: right;\">\n",
              "      <th></th>\n",
              "      <th>WorkClass</th>\n",
              "      <th>Education</th>\n",
              "      <th>MaritalStatus</th>\n",
              "      <th>Occupation</th>\n",
              "      <th>Relationship</th>\n",
              "      <th>Gender</th>\n",
              "      <th>NativeCountry</th>\n",
              "      <th>Income</th>\n",
              "    </tr>\n",
              "  </thead>\n",
              "  <tbody>\n",
              "    <tr>\n",
              "      <th>0</th>\n",
              "      <td>State-gov</td>\n",
              "      <td>Bachelors</td>\n",
              "      <td>Never-married</td>\n",
              "      <td>Adm-clerical</td>\n",
              "      <td>Not-in-family</td>\n",
              "      <td>Male</td>\n",
              "      <td>United-States</td>\n",
              "      <td>&lt;=50K</td>\n",
              "    </tr>\n",
              "    <tr>\n",
              "      <th>1</th>\n",
              "      <td>Self-emp-not-inc</td>\n",
              "      <td>Bachelors</td>\n",
              "      <td>Married-civ-spouse</td>\n",
              "      <td>NaN</td>\n",
              "      <td>Husband</td>\n",
              "      <td>Male</td>\n",
              "      <td>United-States</td>\n",
              "      <td>&lt;=50K</td>\n",
              "    </tr>\n",
              "    <tr>\n",
              "      <th>2</th>\n",
              "      <td>Private</td>\n",
              "      <td>HS-grad</td>\n",
              "      <td>Divorced</td>\n",
              "      <td>Handlers-cleaners</td>\n",
              "      <td>Not-in-family</td>\n",
              "      <td>Male</td>\n",
              "      <td>United-States</td>\n",
              "      <td>&lt;=50K</td>\n",
              "    </tr>\n",
              "    <tr>\n",
              "      <th>3</th>\n",
              "      <td>Private</td>\n",
              "      <td>NaN</td>\n",
              "      <td>Married-civ-spouse</td>\n",
              "      <td>Handlers-cleaners</td>\n",
              "      <td>Husband</td>\n",
              "      <td>Male</td>\n",
              "      <td>United-States</td>\n",
              "      <td>&lt;=50K</td>\n",
              "    </tr>\n",
              "    <tr>\n",
              "      <th>4</th>\n",
              "      <td>Private</td>\n",
              "      <td>Bachelors</td>\n",
              "      <td>Married-civ-spouse</td>\n",
              "      <td>Prof-specialty</td>\n",
              "      <td>Wife</td>\n",
              "      <td>NaN</td>\n",
              "      <td>Cuba</td>\n",
              "      <td>&lt;=50K</td>\n",
              "    </tr>\n",
              "  </tbody>\n",
              "</table>\n",
              "</div>"
            ],
            "text/plain": [
              "           WorkClass   Education  ...   NativeCountry Income\n",
              "0          State-gov   Bachelors  ...   United-States  <=50K\n",
              "1   Self-emp-not-inc   Bachelors  ...   United-States  <=50K\n",
              "2            Private     HS-grad  ...   United-States  <=50K\n",
              "3            Private         NaN  ...   United-States  <=50K\n",
              "4            Private   Bachelors  ...            Cuba  <=50K\n",
              "\n",
              "[5 rows x 8 columns]"
            ]
          },
          "metadata": {
            "tags": []
          },
          "execution_count": 45
        }
      ]
    },
    {
      "cell_type": "code",
      "metadata": {
        "colab": {
          "base_uri": "https://localhost:8080/"
        },
        "id": "YVKkG_8nuOtJ",
        "outputId": "c40f8f5f-c34e-4e85-a720-c074f9c26ca2"
      },
      "source": [
        "data.WorkClass.value_counts()"
      ],
      "execution_count": null,
      "outputs": [
        {
          "output_type": "execute_result",
          "data": {
            "text/plain": [
              " Private             26031\n",
              " Self-emp-not-inc     2863\n",
              " Local-gov            2418\n",
              " ?                    2205\n",
              " State-gov            1525\n",
              " Self-emp-inc         1195\n",
              " Federal-gov          1083\n",
              " Without-pay            16\n",
              " Never-worked            9\n",
              "Name: WorkClass, dtype: int64"
            ]
          },
          "metadata": {
            "tags": []
          },
          "execution_count": 46
        }
      ]
    },
    {
      "cell_type": "code",
      "metadata": {
        "id": "kBBirf6Nu7oI"
      },
      "source": [
        "data['WorkClass'] = data['WorkClass'].str.strip()"
      ],
      "execution_count": null,
      "outputs": []
    },
    {
      "cell_type": "code",
      "metadata": {
        "id": "z8YGVIsXvFje"
      },
      "source": [
        "data.loc[data.WorkClass=='?',['WorkClass']]=np.NaN #Replacing ? with NaN values"
      ],
      "execution_count": null,
      "outputs": []
    },
    {
      "cell_type": "code",
      "metadata": {
        "colab": {
          "base_uri": "https://localhost:8080/"
        },
        "id": "HHHeZkIPvtx6",
        "outputId": "c2f338e9-b46a-4dab-c47a-1fae6046608d"
      },
      "source": [
        "data.WorkClass.fillna('Private',inplace=True) # Replacing NAn with most accoured value\r\n",
        "data.WorkClass.value_counts()"
      ],
      "execution_count": null,
      "outputs": [
        {
          "output_type": "execute_result",
          "data": {
            "text/plain": [
              "Private             30973\n",
              "Self-emp-not-inc     2863\n",
              "Local-gov            2418\n",
              "State-gov            1525\n",
              "Self-emp-inc         1195\n",
              "Federal-gov          1083\n",
              "Without-pay            16\n",
              "Never-worked            9\n",
              "Name: WorkClass, dtype: int64"
            ]
          },
          "metadata": {
            "tags": []
          },
          "execution_count": 49
        }
      ]
    },
    {
      "cell_type": "code",
      "metadata": {
        "colab": {
          "base_uri": "https://localhost:8080/"
        },
        "id": "oqObNd7DvxjP",
        "outputId": "3f74e8a0-d267-4443-f83b-5425f02a7321"
      },
      "source": [
        "data.WorkClass.value_counts().sum()"
      ],
      "execution_count": null,
      "outputs": [
        {
          "output_type": "execute_result",
          "data": {
            "text/plain": [
              "40082"
            ]
          },
          "metadata": {
            "tags": []
          },
          "execution_count": 50
        }
      ]
    },
    {
      "cell_type": "code",
      "metadata": {
        "colab": {
          "base_uri": "https://localhost:8080/"
        },
        "id": "saU80HDjv3R-",
        "outputId": "05760e16-e5cc-48d3-b080-204927cb3249"
      },
      "source": [
        "data.shape"
      ],
      "execution_count": null,
      "outputs": [
        {
          "output_type": "execute_result",
          "data": {
            "text/plain": [
              "(40082, 14)"
            ]
          },
          "metadata": {
            "tags": []
          },
          "execution_count": 51
        }
      ]
    },
    {
      "cell_type": "code",
      "metadata": {
        "colab": {
          "base_uri": "https://localhost:8080/",
          "height": 405
        },
        "id": "e7C0I_gxyAWN",
        "outputId": "6f70e122-2a4c-4e46-a50d-c30935705af7"
      },
      "source": [
        "plt.figure(figsize=[10,6])\r\n",
        "sns.countplot(x=\"WorkClass\",hue=\"Income\",data=data)"
      ],
      "execution_count": null,
      "outputs": [
        {
          "output_type": "execute_result",
          "data": {
            "text/plain": [
              "<matplotlib.axes._subplots.AxesSubplot at 0x7fb9018f0e10>"
            ]
          },
          "metadata": {
            "tags": []
          },
          "execution_count": 52
        },
        {
          "output_type": "display_data",
          "data": {
            "image/png": "[encoded data removed]",
            "text/plain": [
              "<Figure size 720x432 with 1 Axes>"
            ]
          },
          "metadata": {
            "tags": [],
            "needs_background": "light"
          }
        }
      ]
    },
    {
      "cell_type": "markdown",
      "metadata": {
        "id": "IeEIjnDbw2uh"
      },
      "source": [
        "Education"
      ]
    },
    {
      "cell_type": "code",
      "metadata": {
        "colab": {
          "base_uri": "https://localhost:8080/"
        },
        "id": "D745z7H5wWiv",
        "outputId": "17b6c0b9-8c45-4052-cba1-beb1d9f70686"
      },
      "source": [
        "data.Education.value_counts()"
      ],
      "execution_count": null,
      "outputs": [
        {
          "output_type": "execute_result",
          "data": {
            "text/plain": [
              " HS-grad         12242\n",
              " Some-college     8418\n",
              " Bachelors        6001\n",
              " Masters          1979\n",
              " Assoc-voc        1600\n",
              " 11th             1437\n",
              " Assoc-acdm       1238\n",
              " 10th             1074\n",
              " 7th-8th           735\n",
              " 9th               596\n",
              " Prof-school       522\n",
              " 12th              496\n",
              " Doctorate         416\n",
              " 5th-6th           381\n",
              " 1st-4th           195\n",
              " Preschool          62\n",
              "Name: Education, dtype: int64"
            ]
          },
          "metadata": {
            "tags": []
          },
          "execution_count": 53
        }
      ]
    },
    {
      "cell_type": "code",
      "metadata": {
        "id": "SbNf_Z_Iw8xV"
      },
      "source": [
        "data['Education'] = data['Education'].str.strip()"
      ],
      "execution_count": null,
      "outputs": []
    },
    {
      "cell_type": "code",
      "metadata": {
        "colab": {
          "base_uri": "https://localhost:8080/"
        },
        "id": "iGIUFB7vxFsi",
        "outputId": "7393534a-4ed0-40c1-e2a1-11a236559961"
      },
      "source": [
        "data.shape"
      ],
      "execution_count": null,
      "outputs": [
        {
          "output_type": "execute_result",
          "data": {
            "text/plain": [
              "(40082, 14)"
            ]
          },
          "metadata": {
            "tags": []
          },
          "execution_count": 55
        }
      ]
    },
    {
      "cell_type": "code",
      "metadata": {
        "colab": {
          "base_uri": "https://localhost:8080/"
        },
        "id": "DMbzdb1CxJ-H",
        "outputId": "3b14f5fb-157e-4eba-c7f9-f27eb39bc6ab"
      },
      "source": [
        "data.Education.value_counts()"
      ],
      "execution_count": null,
      "outputs": [
        {
          "output_type": "execute_result",
          "data": {
            "text/plain": [
              "HS-grad         12242\n",
              "Some-college     8418\n",
              "Bachelors        6001\n",
              "Masters          1979\n",
              "Assoc-voc        1600\n",
              "11th             1437\n",
              "Assoc-acdm       1238\n",
              "10th             1074\n",
              "7th-8th           735\n",
              "9th               596\n",
              "Prof-school       522\n",
              "12th              496\n",
              "Doctorate         416\n",
              "5th-6th           381\n",
              "1st-4th           195\n",
              "Preschool          62\n",
              "Name: Education, dtype: int64"
            ]
          },
          "metadata": {
            "tags": []
          },
          "execution_count": 56
        }
      ]
    },
    {
      "cell_type": "code",
      "metadata": {
        "colab": {
          "base_uri": "https://localhost:8080/",
          "height": 304
        },
        "id": "vTJ7WXvoxQXo",
        "outputId": "2aa5a9ed-736d-4215-f5a8-c3cea6d12e83"
      },
      "source": [
        "plt.figure(figsize=[22,6])\r\n",
        "sns.countplot(x=\"Education\",hue=\"Income\",data=data)"
      ],
      "execution_count": null,
      "outputs": [
        {
          "output_type": "execute_result",
          "data": {
            "text/plain": [
              "<matplotlib.axes._subplots.AxesSubplot at 0x7fb9014445f8>"
            ]
          },
          "metadata": {
            "tags": []
          },
          "execution_count": 57
        },
        {
          "output_type": "display_data",
          "data": {
            "image/png": "[encoded data removed]",
            "text/plain": [
              "<Figure size 1584x432 with 1 Axes>"
            ]
          },
          "metadata": {
            "tags": [],
            "needs_background": "light"
          }
        }
      ]
    },
    {
      "cell_type": "code",
      "metadata": {
        "id": "JK8t8wxqyNYu"
      },
      "source": [
        "data['Education'].replace('Preschool', 'Schooling',inplace=True)\r\n",
        "data['Education'].replace('10th', 'Schooling',inplace=True)\r\n",
        "data['Education'].replace('11th', 'Schooling',inplace=True)\r\n",
        "data['Education'].replace('12th', 'Schooling',inplace=True)\r\n",
        "data['Education'].replace('1st-4th', 'Schooling',inplace=True)\r\n",
        "data['Education'].replace('5th-6th', 'Schooling',inplace=True)\r\n",
        "data['Education'].replace('7th-8th', 'Schooling',inplace=True)\r\n",
        "data['Education'].replace('9th', 'Schooling',inplace=True)\r\n",
        "data['Education'].replace('HS-grad', 'HighGrad',inplace=True)\r\n",
        "data['Education'].replace('Some-college', 'CommunityCollege',inplace=True)\r\n",
        "data['Education'].replace('Assoc-acdm', 'CommunityCollege',inplace=True)\r\n",
        "data['Education'].replace('Assoc-voc', 'CommunityCollege',inplace=True)\r\n",
        "data['Education'].replace('Bachelors', 'Bachelors',inplace=True)\r\n",
        "data['Education'].replace('Masters', 'Masters',inplace=True)\r\n",
        "data['Education'].replace('Prof-school', 'Masters',inplace=True)\r\n",
        "data['Education'].replace('Doctorate', 'Doctorate',inplace=True)"
      ],
      "execution_count": null,
      "outputs": []
    },
    {
      "cell_type": "code",
      "metadata": {
        "colab": {
          "base_uri": "https://localhost:8080/"
        },
        "id": "0nX7EY-Iy53x",
        "outputId": "44530cc4-a7a4-4911-943c-c03c45b6c3e1"
      },
      "source": [
        "data.info()"
      ],
      "execution_count": null,
      "outputs": [
        {
          "output_type": "stream",
          "text": [
            "<class 'pandas.core.frame.DataFrame'>\n",
            "Int64Index: 40082 entries, 0 to 40934\n",
            "Data columns (total 14 columns):\n",
            " #   Column         Non-Null Count  Dtype  \n",
            "---  ------         --------------  -----  \n",
            " 0   Age            40082 non-null  float64\n",
            " 1   WorkClass      40082 non-null  object \n",
            " 2   fnlwgt         40082 non-null  float64\n",
            " 3   Education      37392 non-null  object \n",
            " 4   EducationNum   40082 non-null  float64\n",
            " 5   MaritalStatus  37219 non-null  object \n",
            " 6   Occupation     37373 non-null  object \n",
            " 7   Relationship   37316 non-null  object \n",
            " 8   Gender         37406 non-null  object \n",
            " 9   CapitalGain    40082 non-null  float64\n",
            " 10  CapitalLoss    40082 non-null  float64\n",
            " 11  HoursPerWeek   40082 non-null  float64\n",
            " 12  NativeCountry  37406 non-null  object \n",
            " 13  Income         40082 non-null  object \n",
            "dtypes: float64(6), object(8)\n",
            "memory usage: 5.8+ MB\n"
          ],
          "name": "stdout"
        }
      ]
    },
    {
      "cell_type": "code",
      "metadata": {
        "colab": {
          "base_uri": "https://localhost:8080/"
        },
        "id": "jWVbeCY2y8tL",
        "outputId": "31de5fdd-245c-45cb-b5eb-ee68b755f11e"
      },
      "source": [
        "data.Education.value_counts()"
      ],
      "execution_count": null,
      "outputs": [
        {
          "output_type": "execute_result",
          "data": {
            "text/plain": [
              "HighGrad            12242\n",
              "CommunityCollege    11256\n",
              "Bachelors            6001\n",
              "Schooling            4976\n",
              "Masters              2501\n",
              "Doctorate             416\n",
              "Name: Education, dtype: int64"
            ]
          },
          "metadata": {
            "tags": []
          },
          "execution_count": 60
        }
      ]
    },
    {
      "cell_type": "code",
      "metadata": {
        "colab": {
          "base_uri": "https://localhost:8080/"
        },
        "id": "STjHooXgzCSB",
        "outputId": "52a0b6e5-ccf5-484c-a620-fe4db380672f"
      },
      "source": [
        "data.isnull().sum()"
      ],
      "execution_count": null,
      "outputs": [
        {
          "output_type": "execute_result",
          "data": {
            "text/plain": [
              "Age                 0\n",
              "WorkClass           0\n",
              "fnlwgt              0\n",
              "Education        2690\n",
              "EducationNum        0\n",
              "MaritalStatus    2863\n",
              "Occupation       2709\n",
              "Relationship     2766\n",
              "Gender           2676\n",
              "CapitalGain         0\n",
              "CapitalLoss         0\n",
              "HoursPerWeek        0\n",
              "NativeCountry    2676\n",
              "Income              0\n",
              "dtype: int64"
            ]
          },
          "metadata": {
            "tags": []
          },
          "execution_count": 61
        }
      ]
    },
    {
      "cell_type": "code",
      "metadata": {
        "id": "ndFHmn03zGZQ"
      },
      "source": [
        "data.Education.fillna(\"HighGrad\",inplace=True)"
      ],
      "execution_count": null,
      "outputs": []
    },
    {
      "cell_type": "code",
      "metadata": {
        "colab": {
          "base_uri": "https://localhost:8080/",
          "height": 405
        },
        "id": "c2rah9EvzLcA",
        "outputId": "77442194-5257-4ac1-d06b-812a2e20daaa"
      },
      "source": [
        "plt.figure(figsize=[10,6])\r\n",
        "sns.countplot(x=\"Education\",hue=\"Income\",data=data)"
      ],
      "execution_count": null,
      "outputs": [
        {
          "output_type": "execute_result",
          "data": {
            "text/plain": [
              "<matplotlib.axes._subplots.AxesSubplot at 0x7fb901312cf8>"
            ]
          },
          "metadata": {
            "tags": []
          },
          "execution_count": 63
        },
        {
          "output_type": "display_data",
          "data": {
            "image/png": "[encoded data removed]",
            "text/plain": [
              "<Figure size 720x432 with 1 Axes>"
            ]
          },
          "metadata": {
            "tags": [],
            "needs_background": "light"
          }
        }
      ]
    },
    {
      "cell_type": "code",
      "metadata": {
        "colab": {
          "base_uri": "https://localhost:8080/"
        },
        "id": "ydApsB89zQxX",
        "outputId": "09882a4b-a0d6-48b6-d583-7e5c18fb8a8c"
      },
      "source": [
        "data.isnull().sum()"
      ],
      "execution_count": null,
      "outputs": [
        {
          "output_type": "execute_result",
          "data": {
            "text/plain": [
              "Age                 0\n",
              "WorkClass           0\n",
              "fnlwgt              0\n",
              "Education           0\n",
              "EducationNum        0\n",
              "MaritalStatus    2863\n",
              "Occupation       2709\n",
              "Relationship     2766\n",
              "Gender           2676\n",
              "CapitalGain         0\n",
              "CapitalLoss         0\n",
              "HoursPerWeek        0\n",
              "NativeCountry    2676\n",
              "Income              0\n",
              "dtype: int64"
            ]
          },
          "metadata": {
            "tags": []
          },
          "execution_count": 64
        }
      ]
    },
    {
      "cell_type": "markdown",
      "metadata": {
        "id": "9SVbrSpVzaHg"
      },
      "source": [
        "MaritalStatus"
      ]
    },
    {
      "cell_type": "code",
      "metadata": {
        "colab": {
          "base_uri": "https://localhost:8080/"
        },
        "id": "npVroFGWzYb8",
        "outputId": "520aec28-d36f-47ab-ef61-f309e653230f"
      },
      "source": [
        "data.MaritalStatus.value_counts()"
      ],
      "execution_count": null,
      "outputs": [
        {
          "output_type": "execute_result",
          "data": {
            "text/plain": [
              " Married-civ-spouse       16774\n",
              " Never-married            12561\n",
              " Divorced                  5019\n",
              " Widowed                   1190\n",
              " Separated                 1180\n",
              " Married-spouse-absent      466\n",
              " Married-AF-spouse           29\n",
              "Name: MaritalStatus, dtype: int64"
            ]
          },
          "metadata": {
            "tags": []
          },
          "execution_count": 65
        }
      ]
    },
    {
      "cell_type": "code",
      "metadata": {
        "id": "yoM_DBc2zfU5"
      },
      "source": [
        "data['MaritalStatus'] = data['MaritalStatus'].str.strip() "
      ],
      "execution_count": null,
      "outputs": []
    },
    {
      "cell_type": "code",
      "metadata": {
        "colab": {
          "base_uri": "https://localhost:8080/"
        },
        "id": "NKgoc5WCziti",
        "outputId": "51499bb1-13ad-47ac-cf89-52869fb90b89"
      },
      "source": [
        "data.MaritalStatus.value_counts()"
      ],
      "execution_count": null,
      "outputs": [
        {
          "output_type": "execute_result",
          "data": {
            "text/plain": [
              "Married-civ-spouse       16774\n",
              "Never-married            12561\n",
              "Divorced                  5019\n",
              "Widowed                   1190\n",
              "Separated                 1180\n",
              "Married-spouse-absent      466\n",
              "Married-AF-spouse           29\n",
              "Name: MaritalStatus, dtype: int64"
            ]
          },
          "metadata": {
            "tags": []
          },
          "execution_count": 67
        }
      ]
    },
    {
      "cell_type": "code",
      "metadata": {
        "id": "7gAOjMijzqge"
      },
      "source": [
        "data['MaritalStatus'].replace('Never-married', 'NotMarried',inplace=True)\r\n",
        "data['MaritalStatus'].replace(['Married-AF-spouse'], 'Married',inplace=True)\r\n",
        "data['MaritalStatus'].replace(['Married-civ-spouse'], 'Married',inplace=True)\r\n",
        "data['MaritalStatus'].replace(['Married-spouse-absent'], 'NotMarried',inplace=True)\r\n",
        "data['MaritalStatus'].replace(['Separated'], 'Separated',inplace=True)\r\n",
        "data['MaritalStatus'].replace(['Divorced'], 'Separated',inplace=True)\r\n",
        "data['MaritalStatus'].replace(['Widowed'], 'Widowed',inplace=True)"
      ],
      "execution_count": null,
      "outputs": []
    },
    {
      "cell_type": "code",
      "metadata": {
        "colab": {
          "base_uri": "https://localhost:8080/"
        },
        "id": "HRViNBMIz3hr",
        "outputId": "f4223f3e-1ee9-4239-898c-b945d29a3887"
      },
      "source": [
        "data.MaritalStatus.value_counts()"
      ],
      "execution_count": null,
      "outputs": [
        {
          "output_type": "execute_result",
          "data": {
            "text/plain": [
              "Married       16803\n",
              "NotMarried    13027\n",
              "Separated      6199\n",
              "Widowed        1190\n",
              "Name: MaritalStatus, dtype: int64"
            ]
          },
          "metadata": {
            "tags": []
          },
          "execution_count": 69
        }
      ]
    },
    {
      "cell_type": "code",
      "metadata": {
        "colab": {
          "base_uri": "https://localhost:8080/"
        },
        "id": "vzTlhmGu0C6j",
        "outputId": "c18b98df-41c2-4a78-c99a-c527b0722198"
      },
      "source": [
        "data.info()"
      ],
      "execution_count": null,
      "outputs": [
        {
          "output_type": "stream",
          "text": [
            "<class 'pandas.core.frame.DataFrame'>\n",
            "Int64Index: 40082 entries, 0 to 40934\n",
            "Data columns (total 14 columns):\n",
            " #   Column         Non-Null Count  Dtype  \n",
            "---  ------         --------------  -----  \n",
            " 0   Age            40082 non-null  float64\n",
            " 1   WorkClass      40082 non-null  object \n",
            " 2   fnlwgt         40082 non-null  float64\n",
            " 3   Education      40082 non-null  object \n",
            " 4   EducationNum   40082 non-null  float64\n",
            " 5   MaritalStatus  37219 non-null  object \n",
            " 6   Occupation     37373 non-null  object \n",
            " 7   Relationship   37316 non-null  object \n",
            " 8   Gender         37406 non-null  object \n",
            " 9   CapitalGain    40082 non-null  float64\n",
            " 10  CapitalLoss    40082 non-null  float64\n",
            " 11  HoursPerWeek   40082 non-null  float64\n",
            " 12  NativeCountry  37406 non-null  object \n",
            " 13  Income         40082 non-null  object \n",
            "dtypes: float64(6), object(8)\n",
            "memory usage: 5.8+ MB\n"
          ],
          "name": "stdout"
        }
      ]
    },
    {
      "cell_type": "code",
      "metadata": {
        "id": "wkeFpezU0FZZ"
      },
      "source": [
        "data.MaritalStatus.fillna(\"Married\",inplace=True)"
      ],
      "execution_count": null,
      "outputs": []
    },
    {
      "cell_type": "code",
      "metadata": {
        "colab": {
          "base_uri": "https://localhost:8080/",
          "height": 351
        },
        "id": "3-3z_ewo0MZQ",
        "outputId": "b84d7448-9a2c-431d-8c8c-fbbcf370607f"
      },
      "source": [
        "plt.figure(figsize=[10,5])\r\n",
        "sns.countplot(x=\"MaritalStatus\",hue='Income', data=data)"
      ],
      "execution_count": null,
      "outputs": [
        {
          "output_type": "execute_result",
          "data": {
            "text/plain": [
              "<matplotlib.axes._subplots.AxesSubplot at 0x7fb90270e278>"
            ]
          },
          "metadata": {
            "tags": []
          },
          "execution_count": 72
        },
        {
          "output_type": "display_data",
          "data": {
            "image/png": "[encoded data removed]",
            "text/plain": [
              "<Figure size 720x360 with 1 Axes>"
            ]
          },
          "metadata": {
            "tags": [],
            "needs_background": "light"
          }
        }
      ]
    },
    {
      "cell_type": "markdown",
      "metadata": {
        "id": "jrG7bg-J0asR"
      },
      "source": [
        "Occupation"
      ]
    },
    {
      "cell_type": "code",
      "metadata": {
        "colab": {
          "base_uri": "https://localhost:8080/"
        },
        "id": "-mmaE--S0TVL",
        "outputId": "087f2103-fca4-486c-dcb7-d5b92af30c26"
      },
      "source": [
        "data.Occupation.value_counts()"
      ],
      "execution_count": null,
      "outputs": [
        {
          "output_type": "execute_result",
          "data": {
            "text/plain": [
              " Craft-repair         4779\n",
              " Prof-specialty       4583\n",
              " Exec-managerial      4477\n",
              " Adm-clerical         4360\n",
              " Sales                4202\n",
              " Other-service        3795\n",
              " Machine-op-inspct    2355\n",
              " ?                    2193\n",
              " Transport-moving     1786\n",
              " Handlers-cleaners    1610\n",
              " Farming-fishing      1143\n",
              " Tech-support         1134\n",
              " Protective-serv       760\n",
              " Priv-house-serv       183\n",
              " Armed-Forces           13\n",
              "Name: Occupation, dtype: int64"
            ]
          },
          "metadata": {
            "tags": []
          },
          "execution_count": 73
        }
      ]
    },
    {
      "cell_type": "code",
      "metadata": {
        "id": "aqNZ_Nrj0c68"
      },
      "source": [
        "data['Occupation'] = data['Occupation'].str.strip() # Removing White Noise "
      ],
      "execution_count": null,
      "outputs": []
    },
    {
      "cell_type": "code",
      "metadata": {
        "id": "SOdzelx00idJ"
      },
      "source": [
        "data.loc[data.Occupation=='?',['Occupation']]=np.NaN # Replacing ? with NaN values"
      ],
      "execution_count": null,
      "outputs": []
    },
    {
      "cell_type": "code",
      "metadata": {
        "id": "MhBOxwol0sXM"
      },
      "source": [
        "data['Occupation'].fillna(\"Craft-repair\",inplace=True)"
      ],
      "execution_count": null,
      "outputs": []
    },
    {
      "cell_type": "code",
      "metadata": {
        "colab": {
          "base_uri": "https://localhost:8080/"
        },
        "id": "hVPqbJl_00w9",
        "outputId": "24c1b6c1-bd5e-443e-9026-b30b139b0e2e"
      },
      "source": [
        "data.Occupation.value_counts()"
      ],
      "execution_count": null,
      "outputs": [
        {
          "output_type": "execute_result",
          "data": {
            "text/plain": [
              "Craft-repair         9681\n",
              "Prof-specialty       4583\n",
              "Exec-managerial      4477\n",
              "Adm-clerical         4360\n",
              "Sales                4202\n",
              "Other-service        3795\n",
              "Machine-op-inspct    2355\n",
              "Transport-moving     1786\n",
              "Handlers-cleaners    1610\n",
              "Farming-fishing      1143\n",
              "Tech-support         1134\n",
              "Protective-serv       760\n",
              "Priv-house-serv       183\n",
              "Armed-Forces           13\n",
              "Name: Occupation, dtype: int64"
            ]
          },
          "metadata": {
            "tags": []
          },
          "execution_count": 77
        }
      ]
    },
    {
      "cell_type": "code",
      "metadata": {
        "colab": {
          "base_uri": "https://localhost:8080/",
          "height": 288
        },
        "id": "ngXY0yPD055C",
        "outputId": "ef2c744b-a87f-4196-8bb2-bd3f3a8de6e9"
      },
      "source": [
        "plt.figure(figsize=[20,5])\r\n",
        "sns.countplot(x=\"Income\",hue='Occupation', data=data)"
      ],
      "execution_count": null,
      "outputs": [
        {
          "output_type": "execute_result",
          "data": {
            "text/plain": [
              "<matplotlib.axes._subplots.AxesSubplot at 0x7fb90122b8d0>"
            ]
          },
          "metadata": {
            "tags": []
          },
          "execution_count": 78
        },
        {
          "output_type": "display_data",
          "data": {
            "image/png": "[encoded data removed]",
            "text/plain": [
              "<Figure size 1440x360 with 1 Axes>"
            ]
          },
          "metadata": {
            "tags": [],
            "needs_background": "light"
          }
        }
      ]
    },
    {
      "cell_type": "markdown",
      "metadata": {
        "id": "wS7CfTwv1Sla"
      },
      "source": [
        "Relationship"
      ]
    },
    {
      "cell_type": "code",
      "metadata": {
        "colab": {
          "base_uri": "https://localhost:8080/"
        },
        "id": "KWw85K1l0-kd",
        "outputId": "1070d205-40c2-4fb2-df93-fbd2598e6f49"
      },
      "source": [
        "data.isnull().sum()"
      ],
      "execution_count": null,
      "outputs": [
        {
          "output_type": "execute_result",
          "data": {
            "text/plain": [
              "Age                 0\n",
              "WorkClass           0\n",
              "fnlwgt              0\n",
              "Education           0\n",
              "EducationNum        0\n",
              "MaritalStatus       0\n",
              "Occupation          0\n",
              "Relationship     2766\n",
              "Gender           2676\n",
              "CapitalGain         0\n",
              "CapitalLoss         0\n",
              "HoursPerWeek        0\n",
              "NativeCountry    2676\n",
              "Income              0\n",
              "dtype: int64"
            ]
          },
          "metadata": {
            "tags": []
          },
          "execution_count": 79
        }
      ]
    },
    {
      "cell_type": "code",
      "metadata": {
        "colab": {
          "base_uri": "https://localhost:8080/"
        },
        "id": "xaiiYUox1P-C",
        "outputId": "4687a67b-0aa9-45aa-9186-df8aaecae4da"
      },
      "source": [
        "data.Relationship.value_counts()"
      ],
      "execution_count": null,
      "outputs": [
        {
          "output_type": "execute_result",
          "data": {
            "text/plain": [
              " Husband           14823\n",
              " Not-in-family      9730\n",
              " Own-child          5943\n",
              " Unmarried          3910\n",
              " Wife               1732\n",
              " Other-relative     1178\n",
              "Name: Relationship, dtype: int64"
            ]
          },
          "metadata": {
            "tags": []
          },
          "execution_count": 80
        }
      ]
    },
    {
      "cell_type": "code",
      "metadata": {
        "id": "UFHuWcUk1X7W"
      },
      "source": [
        "data.Relationship.fillna('Husband',inplace=True)"
      ],
      "execution_count": null,
      "outputs": []
    },
    {
      "cell_type": "code",
      "metadata": {
        "colab": {
          "base_uri": "https://localhost:8080/",
          "height": 351
        },
        "id": "Uk61V8HI1dxY",
        "outputId": "118d3510-87d5-4490-96ee-edc8a115579f"
      },
      "source": [
        "plt.figure(figsize=[10,5])\r\n",
        "sns.countplot(x='Relationship',hue='Income',data=data)"
      ],
      "execution_count": null,
      "outputs": [
        {
          "output_type": "execute_result",
          "data": {
            "text/plain": [
              "<matplotlib.axes._subplots.AxesSubplot at 0x7fb901344cf8>"
            ]
          },
          "metadata": {
            "tags": []
          },
          "execution_count": 82
        },
        {
          "output_type": "display_data",
          "data": {
            "image/png": "[encoded data removed]",
            "text/plain": [
              "<Figure size 720x360 with 1 Axes>"
            ]
          },
          "metadata": {
            "tags": [],
            "needs_background": "light"
          }
        }
      ]
    },
    {
      "cell_type": "code",
      "metadata": {
        "colab": {
          "base_uri": "https://localhost:8080/"
        },
        "id": "KOgBBGoI1f0_",
        "outputId": "85aac423-5d35-42ee-ed20-597bece17893"
      },
      "source": [
        "data.isnull().sum()"
      ],
      "execution_count": null,
      "outputs": [
        {
          "output_type": "execute_result",
          "data": {
            "text/plain": [
              "Age                 0\n",
              "WorkClass           0\n",
              "fnlwgt              0\n",
              "Education           0\n",
              "EducationNum        0\n",
              "MaritalStatus       0\n",
              "Occupation          0\n",
              "Relationship        0\n",
              "Gender           2676\n",
              "CapitalGain         0\n",
              "CapitalLoss         0\n",
              "HoursPerWeek        0\n",
              "NativeCountry    2676\n",
              "Income              0\n",
              "dtype: int64"
            ]
          },
          "metadata": {
            "tags": []
          },
          "execution_count": 83
        }
      ]
    },
    {
      "cell_type": "markdown",
      "metadata": {
        "id": "e9sLXmzI1mtS"
      },
      "source": [
        "Gender"
      ]
    },
    {
      "cell_type": "code",
      "metadata": {
        "colab": {
          "base_uri": "https://localhost:8080/"
        },
        "id": "X8I3n3ei1khb",
        "outputId": "3de58ded-ab5e-40a4-dbdc-c49213748ca8"
      },
      "source": [
        "data.Gender.value_counts()"
      ],
      "execution_count": null,
      "outputs": [
        {
          "output_type": "execute_result",
          "data": {
            "text/plain": [
              " Male      24864\n",
              " Female    12542\n",
              "Name: Gender, dtype: int64"
            ]
          },
          "metadata": {
            "tags": []
          },
          "execution_count": 84
        }
      ]
    },
    {
      "cell_type": "code",
      "metadata": {
        "id": "5jXWxQXq2TpJ"
      },
      "source": [
        " data['Gender'] = data['Gender'].str.strip() # Removed white noice in Gender"
      ],
      "execution_count": null,
      "outputs": []
    },
    {
      "cell_type": "code",
      "metadata": {
        "id": "DXhfITu91qDm"
      },
      "source": [
        "data.Gender.fillna(\"Male\",inplace=True)"
      ],
      "execution_count": null,
      "outputs": []
    },
    {
      "cell_type": "code",
      "metadata": {
        "colab": {
          "base_uri": "https://localhost:8080/",
          "height": 351
        },
        "id": "BuVMyd5D1vjK",
        "outputId": "07d065bc-73b3-42f7-fba4-00af57df8151"
      },
      "source": [
        "plt.figure(figsize=[10,5])\r\n",
        "sns.countplot(x=\"Gender\",hue=\"Income\",data=data)"
      ],
      "execution_count": null,
      "outputs": [
        {
          "output_type": "execute_result",
          "data": {
            "text/plain": [
              "<matplotlib.axes._subplots.AxesSubplot at 0x7fb900e9fa90>"
            ]
          },
          "metadata": {
            "tags": []
          },
          "execution_count": 87
        },
        {
          "output_type": "display_data",
          "data": {
            "image/png": "[encoded data removed]",
            "text/plain": [
              "<Figure size 720x360 with 1 Axes>"
            ]
          },
          "metadata": {
            "tags": [],
            "needs_background": "light"
          }
        }
      ]
    },
    {
      "cell_type": "code",
      "metadata": {
        "colab": {
          "base_uri": "https://localhost:8080/"
        },
        "id": "3nTmqlMM1zGW",
        "outputId": "40faff36-f69e-4d18-c964-7aa69a4418a8"
      },
      "source": [
        "data.info()"
      ],
      "execution_count": null,
      "outputs": [
        {
          "output_type": "stream",
          "text": [
            "<class 'pandas.core.frame.DataFrame'>\n",
            "Int64Index: 40082 entries, 0 to 40934\n",
            "Data columns (total 14 columns):\n",
            " #   Column         Non-Null Count  Dtype  \n",
            "---  ------         --------------  -----  \n",
            " 0   Age            40082 non-null  float64\n",
            " 1   WorkClass      40082 non-null  object \n",
            " 2   fnlwgt         40082 non-null  float64\n",
            " 3   Education      40082 non-null  object \n",
            " 4   EducationNum   40082 non-null  float64\n",
            " 5   MaritalStatus  40082 non-null  object \n",
            " 6   Occupation     40082 non-null  object \n",
            " 7   Relationship   40082 non-null  object \n",
            " 8   Gender         40082 non-null  object \n",
            " 9   CapitalGain    40082 non-null  float64\n",
            " 10  CapitalLoss    40082 non-null  float64\n",
            " 11  HoursPerWeek   40082 non-null  float64\n",
            " 12  NativeCountry  37406 non-null  object \n",
            " 13  Income         40082 non-null  object \n",
            "dtypes: float64(6), object(8)\n",
            "memory usage: 5.8+ MB\n"
          ],
          "name": "stdout"
        }
      ]
    },
    {
      "cell_type": "markdown",
      "metadata": {
        "id": "0CvdR-AK2kf8"
      },
      "source": [
        "NativeCountry"
      ]
    },
    {
      "cell_type": "code",
      "metadata": {
        "colab": {
          "base_uri": "https://localhost:8080/"
        },
        "id": "URfibafs2iVh",
        "outputId": "c3478661-bf99-43e2-c857-50cb9c02e5ae"
      },
      "source": [
        "data.NativeCountry.value_counts()"
      ],
      "execution_count": null,
      "outputs": [
        {
          "output_type": "execute_result",
          "data": {
            "text/plain": [
              " United-States                 33539\n",
              " Mexico                          740\n",
              " ?                               647\n",
              " Philippines                     228\n",
              " Germany                         148\n",
              " Puerto-Rico                     143\n",
              " Canada                          138\n",
              " India                           124\n",
              " El-Salvador                     117\n",
              " Cuba                            107\n",
              " China                           103\n",
              " England                          95\n",
              " Jamaica                          83\n",
              " Italy                            83\n",
              " Dominican-Republic               82\n",
              " South                            78\n",
              " Japan                            73\n",
              " Vietnam                          72\n",
              " Poland                           69\n",
              " Guatemala                        65\n",
              " Columbia                         64\n",
              " Haiti                            57\n",
              " Portugal                         54\n",
              " Taiwan                           52\n",
              " Iran                             43\n",
              " Nicaragua                        40\n",
              " Greece                           38\n",
              " Peru                             36\n",
              " Ireland                          29\n",
              " France                           29\n",
              " Ecuador                          28\n",
              " Thailand                         27\n",
              " Hong                             23\n",
              " Outlying-US(Guam-USVI-etc)       22\n",
              " Cambodia                         22\n",
              " Trinadad&Tobago                  21\n",
              " Laos                             19\n",
              " Yugoslavia                       19\n",
              " Scotland                         17\n",
              " Hungary                          16\n",
              " Honduras                         15\n",
              " Holand-Netherlands                1\n",
              "Name: NativeCountry, dtype: int64"
            ]
          },
          "metadata": {
            "tags": []
          },
          "execution_count": 89
        }
      ]
    },
    {
      "cell_type": "code",
      "metadata": {
        "id": "a2KkEvOc2pFy"
      },
      "source": [
        "data['NativeCountry'] = data['NativeCountry'].str.strip() "
      ],
      "execution_count": null,
      "outputs": []
    },
    {
      "cell_type": "code",
      "metadata": {
        "colab": {
          "base_uri": "https://localhost:8080/"
        },
        "id": "3EprtD00AVS5",
        "outputId": "4bcdbeca-fb2e-4230-e22d-e7395bd284bb"
      },
      "source": [
        "type(data['NativeCountry'])"
      ],
      "execution_count": null,
      "outputs": [
        {
          "output_type": "execute_result",
          "data": {
            "text/plain": [
              "pandas.core.series.Series"
            ]
          },
          "metadata": {
            "tags": []
          },
          "execution_count": 104
        }
      ]
    },
    {
      "cell_type": "code",
      "metadata": {
        "id": "vR7jA2Ex22_t"
      },
      "source": [
        "data.loc[data[\"NativeCountry\"]=='?',['NativeCountry']]=np.NaN"
      ],
      "execution_count": null,
      "outputs": []
    },
    {
      "cell_type": "code",
      "metadata": {
        "colab": {
          "base_uri": "https://localhost:8080/"
        },
        "id": "dXl_2hBg3ErE",
        "outputId": "184072ed-9e7d-4341-8058-3c6f8d2a1c1c"
      },
      "source": [
        "data.NativeCountry.value_counts()"
      ],
      "execution_count": null,
      "outputs": [
        {
          "output_type": "execute_result",
          "data": {
            "text/plain": [
              "United-States                 33539\n",
              "Mexico                          740\n",
              "Philippines                     228\n",
              "Germany                         148\n",
              "Puerto-Rico                     143\n",
              "Canada                          138\n",
              "India                           124\n",
              "El-Salvador                     117\n",
              "Cuba                            107\n",
              "China                           103\n",
              "England                          95\n",
              "Italy                            83\n",
              "Jamaica                          83\n",
              "Dominican-Republic               82\n",
              "South                            78\n",
              "Japan                            73\n",
              "Vietnam                          72\n",
              "Poland                           69\n",
              "Guatemala                        65\n",
              "Columbia                         64\n",
              "Haiti                            57\n",
              "Portugal                         54\n",
              "Taiwan                           52\n",
              "Iran                             43\n",
              "Nicaragua                        40\n",
              "Greece                           38\n",
              "Peru                             36\n",
              "Ireland                          29\n",
              "France                           29\n",
              "Ecuador                          28\n",
              "Thailand                         27\n",
              "Hong                             23\n",
              "Cambodia                         22\n",
              "Outlying-US(Guam-USVI-etc)       22\n",
              "Trinadad&Tobago                  21\n",
              "Yugoslavia                       19\n",
              "Laos                             19\n",
              "Scotland                         17\n",
              "Hungary                          16\n",
              "Honduras                         15\n",
              "Holand-Netherlands                1\n",
              "Name: NativeCountry, dtype: int64"
            ]
          },
          "metadata": {
            "tags": []
          },
          "execution_count": 92
        }
      ]
    },
    {
      "cell_type": "code",
      "metadata": {
        "id": "3kjrxki33KAO"
      },
      "source": [
        "data.NativeCountry.fillna(\"United-States\", inplace= True)"
      ],
      "execution_count": null,
      "outputs": []
    },
    {
      "cell_type": "code",
      "metadata": {
        "colab": {
          "base_uri": "https://localhost:8080/"
        },
        "id": "XroSXaX83SNt",
        "outputId": "6a84fb5a-5355-4f0e-bc87-c3a7c9cd47db"
      },
      "source": [
        "data.isnull().sum() # removed all null values"
      ],
      "execution_count": null,
      "outputs": [
        {
          "output_type": "execute_result",
          "data": {
            "text/plain": [
              "Age              0\n",
              "WorkClass        0\n",
              "fnlwgt           0\n",
              "Education        0\n",
              "EducationNum     0\n",
              "MaritalStatus    0\n",
              "Occupation       0\n",
              "Relationship     0\n",
              "Gender           0\n",
              "CapitalGain      0\n",
              "CapitalLoss      0\n",
              "HoursPerWeek     0\n",
              "NativeCountry    0\n",
              "Income           0\n",
              "dtype: int64"
            ]
          },
          "metadata": {
            "tags": []
          },
          "execution_count": 94
        }
      ]
    },
    {
      "cell_type": "code",
      "metadata": {
        "colab": {
          "base_uri": "https://localhost:8080/"
        },
        "id": "xHaL4i9f3Vyq",
        "outputId": "4479976f-7691-4f05-9113-ae1107df5eec"
      },
      "source": [
        "data.info()"
      ],
      "execution_count": null,
      "outputs": [
        {
          "output_type": "stream",
          "text": [
            "<class 'pandas.core.frame.DataFrame'>\n",
            "Int64Index: 40082 entries, 0 to 40934\n",
            "Data columns (total 14 columns):\n",
            " #   Column         Non-Null Count  Dtype  \n",
            "---  ------         --------------  -----  \n",
            " 0   Age            40082 non-null  float64\n",
            " 1   WorkClass      40082 non-null  object \n",
            " 2   fnlwgt         40082 non-null  float64\n",
            " 3   Education      40082 non-null  object \n",
            " 4   EducationNum   40082 non-null  float64\n",
            " 5   MaritalStatus  40082 non-null  object \n",
            " 6   Occupation     40082 non-null  object \n",
            " 7   Relationship   40082 non-null  object \n",
            " 8   Gender         40082 non-null  object \n",
            " 9   CapitalGain    40082 non-null  float64\n",
            " 10  CapitalLoss    40082 non-null  float64\n",
            " 11  HoursPerWeek   40082 non-null  float64\n",
            " 12  NativeCountry  40082 non-null  object \n",
            " 13  Income         40082 non-null  object \n",
            "dtypes: float64(6), object(8)\n",
            "memory usage: 5.8+ MB\n"
          ],
          "name": "stdout"
        }
      ]
    },
    {
      "cell_type": "markdown",
      "metadata": {
        "id": "cxbOcDfn5PS9"
      },
      "source": [
        "Feature Engineering"
      ]
    },
    {
      "cell_type": "code",
      "metadata": {
        "id": "P788Eo0U3amK"
      },
      "source": [
        "from sklearn.preprocessing import LabelEncoder\r\n",
        "l=LabelEncoder() # Converting Catagorical values to Numerical"
      ],
      "execution_count": null,
      "outputs": []
    },
    {
      "cell_type": "code",
      "metadata": {
        "colab": {
          "base_uri": "https://localhost:8080/"
        },
        "id": "rrtcqIEp5g7M",
        "outputId": "5068fbc5-c266-40d8-c133-71414e2940da"
      },
      "source": [
        "for feature in features_categorical:\r\n",
        "  print(feature)\r\n",
        "  data[feature]=l.fit_transform(data[feature])"
      ],
      "execution_count": null,
      "outputs": [
        {
          "output_type": "stream",
          "text": [
            "WorkClass\n",
            "Education\n",
            "MaritalStatus\n",
            "Occupation\n",
            "Relationship\n",
            "Gender\n",
            "NativeCountry\n",
            "Income\n"
          ],
          "name": "stdout"
        }
      ]
    },
    {
      "cell_type": "code",
      "metadata": {
        "colab": {
          "base_uri": "https://localhost:8080/"
        },
        "id": "Rj74H3Nc7NBY",
        "outputId": "d3ec2048-5adf-4514-9a18-8407893859db"
      },
      "source": [
        "data.shape"
      ],
      "execution_count": null,
      "outputs": [
        {
          "output_type": "execute_result",
          "data": {
            "text/plain": [
              "(40082, 14)"
            ]
          },
          "metadata": {
            "tags": []
          },
          "execution_count": 98
        }
      ]
    },
    {
      "cell_type": "code",
      "metadata": {
        "colab": {
          "base_uri": "https://localhost:8080/"
        },
        "id": "UaK5m0px7Oqk",
        "outputId": "dedbe6fc-dddd-439e-a469-ce798f29d2ec"
      },
      "source": [
        "data.Income.value_counts()"
      ],
      "execution_count": null,
      "outputs": [
        {
          "output_type": "execute_result",
          "data": {
            "text/plain": [
              "0    31084\n",
              "1     8998\n",
              "Name: Income, dtype: int64"
            ]
          },
          "metadata": {
            "tags": []
          },
          "execution_count": 99
        }
      ]
    },
    {
      "cell_type": "code",
      "metadata": {
        "id": "3OAnINQe7SOc"
      },
      "source": [
        "temp=data.copy()"
      ],
      "execution_count": null,
      "outputs": []
    },
    {
      "cell_type": "code",
      "metadata": {
        "colab": {
          "base_uri": "https://localhost:8080/"
        },
        "id": "86mEJnJvBvCh",
        "outputId": "d1426148-cd0a-4a2f-a8a0-d28cd4cc82ff"
      },
      "source": [
        "temp['Income'].value_counts()"
      ],
      "execution_count": null,
      "outputs": [
        {
          "output_type": "execute_result",
          "data": {
            "text/plain": [
              "0    31084\n",
              "1     8998\n",
              "Name: Income, dtype: int64"
            ]
          },
          "metadata": {
            "tags": []
          },
          "execution_count": 116
        }
      ]
    },
    {
      "cell_type": "code",
      "metadata": {
        "colab": {
          "base_uri": "https://localhost:8080/"
        },
        "id": "2GqEOm8xADGO",
        "outputId": "2557fe5d-18a6-4c11-878b-6853a1bf4711"
      },
      "source": [
        "type(data['Income'])"
      ],
      "execution_count": null,
      "outputs": [
        {
          "output_type": "execute_result",
          "data": {
            "text/plain": [
              "pandas.core.series.Series"
            ]
          },
          "metadata": {
            "tags": []
          },
          "execution_count": 113
        }
      ]
    },
    {
      "cell_type": "code",
      "metadata": {
        "colab": {
          "base_uri": "https://localhost:8080/"
        },
        "id": "u-z_0q3QAiGN",
        "outputId": "188d024a-1f91-43f1-cf44-03870549d81b"
      },
      "source": [
        "data.info()"
      ],
      "execution_count": null,
      "outputs": [
        {
          "output_type": "stream",
          "text": [
            "<class 'pandas.core.frame.DataFrame'>\n",
            "Int64Index: 40082 entries, 0 to 40934\n",
            "Data columns (total 14 columns):\n",
            " #   Column         Non-Null Count  Dtype  \n",
            "---  ------         --------------  -----  \n",
            " 0   Age            40082 non-null  float64\n",
            " 1   WorkClass      40082 non-null  int64  \n",
            " 2   fnlwgt         40082 non-null  float64\n",
            " 3   Education      40082 non-null  int64  \n",
            " 4   EducationNum   40082 non-null  float64\n",
            " 5   MaritalStatus  40082 non-null  int64  \n",
            " 6   Occupation     40082 non-null  int64  \n",
            " 7   Relationship   40082 non-null  int64  \n",
            " 8   Gender         40082 non-null  int64  \n",
            " 9   CapitalGain    40082 non-null  float64\n",
            " 10  CapitalLoss    40082 non-null  float64\n",
            " 11  HoursPerWeek   40082 non-null  float64\n",
            " 12  NativeCountry  40082 non-null  int64  \n",
            " 13  Income         40082 non-null  int64  \n",
            "dtypes: float64(6), int64(8)\n",
            "memory usage: 5.8 MB\n"
          ],
          "name": "stdout"
        }
      ]
    },
    {
      "cell_type": "code",
      "metadata": {
        "colab": {
          "base_uri": "https://localhost:8080/"
        },
        "id": "IthgRDXG_0iC",
        "outputId": "7ec4257c-1729-4184-a43e-0748c56b13a4"
      },
      "source": [
        "data['Income'].astype(str).str.strip()"
      ],
      "execution_count": null,
      "outputs": [
        {
          "output_type": "execute_result",
          "data": {
            "text/plain": [
              "0        0\n",
              "1        0\n",
              "2        0\n",
              "3        0\n",
              "4        0\n",
              "        ..\n",
              "40930    0\n",
              "40931    0\n",
              "40932    0\n",
              "40933    0\n",
              "40934    1\n",
              "Name: Income, Length: 40082, dtype: object"
            ]
          },
          "metadata": {
            "tags": []
          },
          "execution_count": 109
        }
      ]
    },
    {
      "cell_type": "code",
      "metadata": {
        "colab": {
          "base_uri": "https://localhost:8080/"
        },
        "id": "FAgUArTbBWc-",
        "outputId": "56958fda-2e20-4dce-bfb6-9ec1183b7fca"
      },
      "source": [
        "data['Income'].value_counts().sum()"
      ],
      "execution_count": null,
      "outputs": [
        {
          "output_type": "execute_result",
          "data": {
            "text/plain": [
              "40082"
            ]
          },
          "metadata": {
            "tags": []
          },
          "execution_count": 118
        }
      ]
    },
    {
      "cell_type": "code",
      "metadata": {
        "id": "z4i9z4yL52Lm",
        "colab": {
          "base_uri": "https://localhost:8080/"
        },
        "outputId": "c4a91314-ed5a-4e78-a4f1-ae6829dac2f4"
      },
      "source": [
        "data.info()"
      ],
      "execution_count": null,
      "outputs": [
        {
          "output_type": "stream",
          "text": [
            "<class 'pandas.core.frame.DataFrame'>\n",
            "Int64Index: 40082 entries, 0 to 40934\n",
            "Data columns (total 14 columns):\n",
            " #   Column         Non-Null Count  Dtype  \n",
            "---  ------         --------------  -----  \n",
            " 0   Age            40082 non-null  float64\n",
            " 1   WorkClass      40082 non-null  int64  \n",
            " 2   fnlwgt         40082 non-null  float64\n",
            " 3   Education      40082 non-null  int64  \n",
            " 4   EducationNum   40082 non-null  float64\n",
            " 5   MaritalStatus  40082 non-null  int64  \n",
            " 6   Occupation     40082 non-null  int64  \n",
            " 7   Relationship   40082 non-null  int64  \n",
            " 8   Gender         40082 non-null  int64  \n",
            " 9   CapitalGain    40082 non-null  float64\n",
            " 10  CapitalLoss    40082 non-null  float64\n",
            " 11  HoursPerWeek   40082 non-null  float64\n",
            " 12  NativeCountry  40082 non-null  int64  \n",
            " 13  Income         40082 non-null  int64  \n",
            "dtypes: float64(6), int64(8)\n",
            "memory usage: 5.8 MB\n"
          ],
          "name": "stdout"
        }
      ]
    },
    {
      "cell_type": "code",
      "metadata": {
        "id": "01plkWDfCbJ6"
      },
      "source": [
        "from sklearn.preprocessing import minmax_scale\r\n"
      ],
      "execution_count": null,
      "outputs": []
    },
    {
      "cell_type": "code",
      "metadata": {
        "id": "5VAsYRzqC6R1"
      },
      "source": [
        "data.fnlwgt=minmax_scale(data.fnlwgt)\r\n",
        "data.CapitalGain=minmax_scale(data.CapitalGain)\r\n",
        "data.CapitalLoss=minmax_scale(data.CapitalLoss)"
      ],
      "execution_count": null,
      "outputs": []
    },
    {
      "cell_type": "code",
      "metadata": {
        "colab": {
          "base_uri": "https://localhost:8080/",
          "height": 439
        },
        "id": "f7UjfAp-DXdo",
        "outputId": "243313b0-a591-48d7-b9c7-e48f671f04b7"
      },
      "source": [
        "data"
      ],
      "execution_count": null,
      "outputs": [
        {
          "output_type": "execute_result",
          "data": {
            "text/html": [
              "<div>\n",
              "<style scoped>\n",
              "    .dataframe tbody tr th:only-of-type {\n",
              "        vertical-align: middle;\n",
              "    }\n",
              "\n",
              "    .dataframe tbody tr th {\n",
              "        vertical-align: top;\n",
              "    }\n",
              "\n",
              "    .dataframe thead th {\n",
              "        text-align: right;\n",
              "    }\n",
              "</style>\n",
              "<table border=\"1\" class=\"dataframe\">\n",
              "  <thead>\n",
              "    <tr style=\"text-align: right;\">\n",
              "      <th></th>\n",
              "      <th>Age</th>\n",
              "      <th>WorkClass</th>\n",
              "      <th>fnlwgt</th>\n",
              "      <th>Education</th>\n",
              "      <th>EducationNum</th>\n",
              "      <th>MaritalStatus</th>\n",
              "      <th>Occupation</th>\n",
              "      <th>Relationship</th>\n",
              "      <th>Gender</th>\n",
              "      <th>CapitalGain</th>\n",
              "      <th>CapitalLoss</th>\n",
              "      <th>HoursPerWeek</th>\n",
              "      <th>NativeCountry</th>\n",
              "      <th>Income</th>\n",
              "    </tr>\n",
              "  </thead>\n",
              "  <tbody>\n",
              "    <tr>\n",
              "      <th>0</th>\n",
              "      <td>39.0</td>\n",
              "      <td>6</td>\n",
              "      <td>0.082886</td>\n",
              "      <td>0</td>\n",
              "      <td>13.0</td>\n",
              "      <td>1</td>\n",
              "      <td>0</td>\n",
              "      <td>1</td>\n",
              "      <td>1</td>\n",
              "      <td>0.186162</td>\n",
              "      <td>0.000000</td>\n",
              "      <td>40.0</td>\n",
              "      <td>38</td>\n",
              "      <td>0</td>\n",
              "    </tr>\n",
              "    <tr>\n",
              "      <th>1</th>\n",
              "      <td>50.0</td>\n",
              "      <td>5</td>\n",
              "      <td>0.090250</td>\n",
              "      <td>0</td>\n",
              "      <td>13.0</td>\n",
              "      <td>0</td>\n",
              "      <td>2</td>\n",
              "      <td>0</td>\n",
              "      <td>1</td>\n",
              "      <td>0.000000</td>\n",
              "      <td>0.000000</td>\n",
              "      <td>13.0</td>\n",
              "      <td>38</td>\n",
              "      <td>0</td>\n",
              "    </tr>\n",
              "    <tr>\n",
              "      <th>2</th>\n",
              "      <td>38.0</td>\n",
              "      <td>3</td>\n",
              "      <td>0.258402</td>\n",
              "      <td>3</td>\n",
              "      <td>9.0</td>\n",
              "      <td>2</td>\n",
              "      <td>5</td>\n",
              "      <td>1</td>\n",
              "      <td>1</td>\n",
              "      <td>0.000000</td>\n",
              "      <td>0.000000</td>\n",
              "      <td>40.0</td>\n",
              "      <td>38</td>\n",
              "      <td>0</td>\n",
              "    </tr>\n",
              "    <tr>\n",
              "      <th>3</th>\n",
              "      <td>53.0</td>\n",
              "      <td>3</td>\n",
              "      <td>0.225566</td>\n",
              "      <td>3</td>\n",
              "      <td>7.0</td>\n",
              "      <td>0</td>\n",
              "      <td>5</td>\n",
              "      <td>0</td>\n",
              "      <td>1</td>\n",
              "      <td>0.000000</td>\n",
              "      <td>0.020325</td>\n",
              "      <td>40.0</td>\n",
              "      <td>38</td>\n",
              "      <td>0</td>\n",
              "    </tr>\n",
              "    <tr>\n",
              "      <th>4</th>\n",
              "      <td>28.0</td>\n",
              "      <td>3</td>\n",
              "      <td>0.414391</td>\n",
              "      <td>0</td>\n",
              "      <td>13.0</td>\n",
              "      <td>0</td>\n",
              "      <td>9</td>\n",
              "      <td>5</td>\n",
              "      <td>1</td>\n",
              "      <td>0.000000</td>\n",
              "      <td>0.000000</td>\n",
              "      <td>40.0</td>\n",
              "      <td>4</td>\n",
              "      <td>0</td>\n",
              "    </tr>\n",
              "    <tr>\n",
              "      <th>...</th>\n",
              "      <td>...</td>\n",
              "      <td>...</td>\n",
              "      <td>...</td>\n",
              "      <td>...</td>\n",
              "      <td>...</td>\n",
              "      <td>...</td>\n",
              "      <td>...</td>\n",
              "      <td>...</td>\n",
              "      <td>...</td>\n",
              "      <td>...</td>\n",
              "      <td>...</td>\n",
              "      <td>...</td>\n",
              "      <td>...</td>\n",
              "      <td>...</td>\n",
              "    </tr>\n",
              "    <tr>\n",
              "      <th>40930</th>\n",
              "      <td>39.0</td>\n",
              "      <td>3</td>\n",
              "      <td>0.258113</td>\n",
              "      <td>0</td>\n",
              "      <td>13.0</td>\n",
              "      <td>2</td>\n",
              "      <td>9</td>\n",
              "      <td>1</td>\n",
              "      <td>0</td>\n",
              "      <td>0.000000</td>\n",
              "      <td>0.000000</td>\n",
              "      <td>36.0</td>\n",
              "      <td>38</td>\n",
              "      <td>0</td>\n",
              "    </tr>\n",
              "    <tr>\n",
              "      <th>40931</th>\n",
              "      <td>64.0</td>\n",
              "      <td>3</td>\n",
              "      <td>0.392782</td>\n",
              "      <td>3</td>\n",
              "      <td>9.0</td>\n",
              "      <td>3</td>\n",
              "      <td>2</td>\n",
              "      <td>2</td>\n",
              "      <td>1</td>\n",
              "      <td>0.000000</td>\n",
              "      <td>0.000000</td>\n",
              "      <td>40.0</td>\n",
              "      <td>38</td>\n",
              "      <td>0</td>\n",
              "    </tr>\n",
              "    <tr>\n",
              "      <th>40932</th>\n",
              "      <td>38.0</td>\n",
              "      <td>3</td>\n",
              "      <td>0.460864</td>\n",
              "      <td>0</td>\n",
              "      <td>13.0</td>\n",
              "      <td>0</td>\n",
              "      <td>9</td>\n",
              "      <td>0</td>\n",
              "      <td>1</td>\n",
              "      <td>0.000000</td>\n",
              "      <td>0.000000</td>\n",
              "      <td>50.0</td>\n",
              "      <td>38</td>\n",
              "      <td>0</td>\n",
              "    </tr>\n",
              "    <tr>\n",
              "      <th>40933</th>\n",
              "      <td>44.0</td>\n",
              "      <td>3</td>\n",
              "      <td>0.090986</td>\n",
              "      <td>0</td>\n",
              "      <td>13.0</td>\n",
              "      <td>2</td>\n",
              "      <td>0</td>\n",
              "      <td>3</td>\n",
              "      <td>1</td>\n",
              "      <td>0.467118</td>\n",
              "      <td>0.000000</td>\n",
              "      <td>40.0</td>\n",
              "      <td>38</td>\n",
              "      <td>0</td>\n",
              "    </tr>\n",
              "    <tr>\n",
              "      <th>40934</th>\n",
              "      <td>35.0</td>\n",
              "      <td>4</td>\n",
              "      <td>0.215837</td>\n",
              "      <td>0</td>\n",
              "      <td>13.0</td>\n",
              "      <td>0</td>\n",
              "      <td>3</td>\n",
              "      <td>0</td>\n",
              "      <td>1</td>\n",
              "      <td>0.000000</td>\n",
              "      <td>0.000000</td>\n",
              "      <td>60.0</td>\n",
              "      <td>38</td>\n",
              "      <td>1</td>\n",
              "    </tr>\n",
              "  </tbody>\n",
              "</table>\n",
              "<p>40082 rows × 14 columns</p>\n",
              "</div>"
            ],
            "text/plain": [
              "        Age  WorkClass    fnlwgt  ...  HoursPerWeek  NativeCountry  Income\n",
              "0      39.0          6  0.082886  ...          40.0             38       0\n",
              "1      50.0          5  0.090250  ...          13.0             38       0\n",
              "2      38.0          3  0.258402  ...          40.0             38       0\n",
              "3      53.0          3  0.225566  ...          40.0             38       0\n",
              "4      28.0          3  0.414391  ...          40.0              4       0\n",
              "...     ...        ...       ...  ...           ...            ...     ...\n",
              "40930  39.0          3  0.258113  ...          36.0             38       0\n",
              "40931  64.0          3  0.392782  ...          40.0             38       0\n",
              "40932  38.0          3  0.460864  ...          50.0             38       0\n",
              "40933  44.0          3  0.090986  ...          40.0             38       0\n",
              "40934  35.0          4  0.215837  ...          60.0             38       1\n",
              "\n",
              "[40082 rows x 14 columns]"
            ]
          },
          "metadata": {
            "tags": []
          },
          "execution_count": 123
        }
      ]
    },
    {
      "cell_type": "code",
      "metadata": {
        "colab": {
          "base_uri": "https://localhost:8080/",
          "height": 503
        },
        "id": "hh31vVAQDt_5",
        "outputId": "d642b403-091a-41bd-d91a-2298d5b388ff"
      },
      "source": [
        "data.corr()"
      ],
      "execution_count": null,
      "outputs": [
        {
          "output_type": "execute_result",
          "data": {
            "text/html": [
              "<div>\n",
              "<style scoped>\n",
              "    .dataframe tbody tr th:only-of-type {\n",
              "        vertical-align: middle;\n",
              "    }\n",
              "\n",
              "    .dataframe tbody tr th {\n",
              "        vertical-align: top;\n",
              "    }\n",
              "\n",
              "    .dataframe thead th {\n",
              "        text-align: right;\n",
              "    }\n",
              "</style>\n",
              "<table border=\"1\" class=\"dataframe\">\n",
              "  <thead>\n",
              "    <tr style=\"text-align: right;\">\n",
              "      <th></th>\n",
              "      <th>Age</th>\n",
              "      <th>WorkClass</th>\n",
              "      <th>fnlwgt</th>\n",
              "      <th>Education</th>\n",
              "      <th>EducationNum</th>\n",
              "      <th>MaritalStatus</th>\n",
              "      <th>Occupation</th>\n",
              "      <th>Relationship</th>\n",
              "      <th>Gender</th>\n",
              "      <th>CapitalGain</th>\n",
              "      <th>CapitalLoss</th>\n",
              "      <th>HoursPerWeek</th>\n",
              "      <th>NativeCountry</th>\n",
              "      <th>Income</th>\n",
              "    </tr>\n",
              "  </thead>\n",
              "  <tbody>\n",
              "    <tr>\n",
              "      <th>Age</th>\n",
              "      <td>1.000000</td>\n",
              "      <td>0.035806</td>\n",
              "      <td>-0.076785</td>\n",
              "      <td>0.067672</td>\n",
              "      <td>0.013224</td>\n",
              "      <td>-0.007450</td>\n",
              "      <td>-0.006926</td>\n",
              "      <td>-0.193571</td>\n",
              "      <td>0.074820</td>\n",
              "      <td>0.090518</td>\n",
              "      <td>0.055884</td>\n",
              "      <td>0.066434</td>\n",
              "      <td>-0.002799</td>\n",
              "      <td>0.209905</td>\n",
              "    </tr>\n",
              "    <tr>\n",
              "      <th>WorkClass</th>\n",
              "      <td>0.035806</td>\n",
              "      <td>1.000000</td>\n",
              "      <td>-0.028965</td>\n",
              "      <td>0.009775</td>\n",
              "      <td>0.002833</td>\n",
              "      <td>-0.050247</td>\n",
              "      <td>0.012333</td>\n",
              "      <td>-0.044184</td>\n",
              "      <td>0.064689</td>\n",
              "      <td>-0.009554</td>\n",
              "      <td>0.004389</td>\n",
              "      <td>0.037489</td>\n",
              "      <td>-0.008998</td>\n",
              "      <td>-0.011085</td>\n",
              "    </tr>\n",
              "    <tr>\n",
              "      <th>fnlwgt</th>\n",
              "      <td>-0.076785</td>\n",
              "      <td>-0.028965</td>\n",
              "      <td>1.000000</td>\n",
              "      <td>0.017658</td>\n",
              "      <td>-0.041030</td>\n",
              "      <td>0.000881</td>\n",
              "      <td>-0.004958</td>\n",
              "      <td>0.005783</td>\n",
              "      <td>0.027959</td>\n",
              "      <td>-0.002939</td>\n",
              "      <td>-0.002381</td>\n",
              "      <td>-0.011453</td>\n",
              "      <td>-0.058393</td>\n",
              "      <td>-0.007184</td>\n",
              "    </tr>\n",
              "    <tr>\n",
              "      <th>Education</th>\n",
              "      <td>0.067672</td>\n",
              "      <td>0.009775</td>\n",
              "      <td>0.017658</td>\n",
              "      <td>1.000000</td>\n",
              "      <td>-0.579785</td>\n",
              "      <td>0.029417</td>\n",
              "      <td>-0.014914</td>\n",
              "      <td>0.021611</td>\n",
              "      <td>0.034029</td>\n",
              "      <td>-0.039415</td>\n",
              "      <td>-0.026584</td>\n",
              "      <td>-0.058597</td>\n",
              "      <td>-0.077500</td>\n",
              "      <td>-0.131997</td>\n",
              "    </tr>\n",
              "    <tr>\n",
              "      <th>EducationNum</th>\n",
              "      <td>0.013224</td>\n",
              "      <td>0.002833</td>\n",
              "      <td>-0.041030</td>\n",
              "      <td>-0.579785</td>\n",
              "      <td>1.000000</td>\n",
              "      <td>-0.075833</td>\n",
              "      <td>0.095852</td>\n",
              "      <td>-0.065272</td>\n",
              "      <td>-0.002299</td>\n",
              "      <td>0.077186</td>\n",
              "      <td>0.085083</td>\n",
              "      <td>0.121180</td>\n",
              "      <td>0.088553</td>\n",
              "      <td>0.299655</td>\n",
              "    </tr>\n",
              "    <tr>\n",
              "      <th>MaritalStatus</th>\n",
              "      <td>-0.007450</td>\n",
              "      <td>-0.050247</td>\n",
              "      <td>0.000881</td>\n",
              "      <td>0.029417</td>\n",
              "      <td>-0.075833</td>\n",
              "      <td>1.000000</td>\n",
              "      <td>-0.033237</td>\n",
              "      <td>0.320469</td>\n",
              "      <td>-0.408242</td>\n",
              "      <td>-0.081011</td>\n",
              "      <td>-0.054164</td>\n",
              "      <td>-0.147950</td>\n",
              "      <td>0.014345</td>\n",
              "      <td>-0.340879</td>\n",
              "    </tr>\n",
              "    <tr>\n",
              "      <th>Occupation</th>\n",
              "      <td>-0.006926</td>\n",
              "      <td>0.012333</td>\n",
              "      <td>-0.004958</td>\n",
              "      <td>-0.014914</td>\n",
              "      <td>0.095852</td>\n",
              "      <td>-0.033237</td>\n",
              "      <td>1.000000</td>\n",
              "      <td>-0.047699</td>\n",
              "      <td>0.054724</td>\n",
              "      <td>0.011500</td>\n",
              "      <td>0.018307</td>\n",
              "      <td>0.049639</td>\n",
              "      <td>0.001974</td>\n",
              "      <td>0.063880</td>\n",
              "    </tr>\n",
              "    <tr>\n",
              "      <th>Relationship</th>\n",
              "      <td>-0.193571</td>\n",
              "      <td>-0.044184</td>\n",
              "      <td>0.005783</td>\n",
              "      <td>0.021611</td>\n",
              "      <td>-0.065272</td>\n",
              "      <td>0.320469</td>\n",
              "      <td>-0.047699</td>\n",
              "      <td>1.000000</td>\n",
              "      <td>-0.418876</td>\n",
              "      <td>-0.063571</td>\n",
              "      <td>-0.044780</td>\n",
              "      <td>-0.184958</td>\n",
              "      <td>-0.001789</td>\n",
              "      <td>-0.197148</td>\n",
              "    </tr>\n",
              "    <tr>\n",
              "      <th>Gender</th>\n",
              "      <td>0.074820</td>\n",
              "      <td>0.064689</td>\n",
              "      <td>0.027959</td>\n",
              "      <td>0.034029</td>\n",
              "      <td>-0.002299</td>\n",
              "      <td>-0.408242</td>\n",
              "      <td>0.054724</td>\n",
              "      <td>-0.418876</td>\n",
              "      <td>1.000000</td>\n",
              "      <td>0.053427</td>\n",
              "      <td>0.042200</td>\n",
              "      <td>0.208379</td>\n",
              "      <td>-0.006153</td>\n",
              "      <td>0.201114</td>\n",
              "    </tr>\n",
              "    <tr>\n",
              "      <th>CapitalGain</th>\n",
              "      <td>0.090518</td>\n",
              "      <td>-0.009554</td>\n",
              "      <td>-0.002939</td>\n",
              "      <td>-0.039415</td>\n",
              "      <td>0.077186</td>\n",
              "      <td>-0.081011</td>\n",
              "      <td>0.011500</td>\n",
              "      <td>-0.063571</td>\n",
              "      <td>0.053427</td>\n",
              "      <td>1.000000</td>\n",
              "      <td>-0.046099</td>\n",
              "      <td>0.051169</td>\n",
              "      <td>0.013369</td>\n",
              "      <td>0.233291</td>\n",
              "    </tr>\n",
              "    <tr>\n",
              "      <th>CapitalLoss</th>\n",
              "      <td>0.055884</td>\n",
              "      <td>0.004389</td>\n",
              "      <td>-0.002381</td>\n",
              "      <td>-0.026584</td>\n",
              "      <td>0.085083</td>\n",
              "      <td>-0.054164</td>\n",
              "      <td>0.018307</td>\n",
              "      <td>-0.044780</td>\n",
              "      <td>0.042200</td>\n",
              "      <td>-0.046099</td>\n",
              "      <td>1.000000</td>\n",
              "      <td>0.054081</td>\n",
              "      <td>0.002590</td>\n",
              "      <td>0.151591</td>\n",
              "    </tr>\n",
              "    <tr>\n",
              "      <th>HoursPerWeek</th>\n",
              "      <td>0.066434</td>\n",
              "      <td>0.037489</td>\n",
              "      <td>-0.011453</td>\n",
              "      <td>-0.058597</td>\n",
              "      <td>0.121180</td>\n",
              "      <td>-0.147950</td>\n",
              "      <td>0.049639</td>\n",
              "      <td>-0.184958</td>\n",
              "      <td>0.208379</td>\n",
              "      <td>0.051169</td>\n",
              "      <td>0.054081</td>\n",
              "      <td>1.000000</td>\n",
              "      <td>0.003174</td>\n",
              "      <td>0.210183</td>\n",
              "    </tr>\n",
              "    <tr>\n",
              "      <th>NativeCountry</th>\n",
              "      <td>-0.002799</td>\n",
              "      <td>-0.008998</td>\n",
              "      <td>-0.058393</td>\n",
              "      <td>-0.077500</td>\n",
              "      <td>0.088553</td>\n",
              "      <td>0.014345</td>\n",
              "      <td>0.001974</td>\n",
              "      <td>-0.001789</td>\n",
              "      <td>-0.006153</td>\n",
              "      <td>0.013369</td>\n",
              "      <td>0.002590</td>\n",
              "      <td>0.003174</td>\n",
              "      <td>1.000000</td>\n",
              "      <td>0.017076</td>\n",
              "    </tr>\n",
              "    <tr>\n",
              "      <th>Income</th>\n",
              "      <td>0.209905</td>\n",
              "      <td>-0.011085</td>\n",
              "      <td>-0.007184</td>\n",
              "      <td>-0.131997</td>\n",
              "      <td>0.299655</td>\n",
              "      <td>-0.340879</td>\n",
              "      <td>0.063880</td>\n",
              "      <td>-0.197148</td>\n",
              "      <td>0.201114</td>\n",
              "      <td>0.233291</td>\n",
              "      <td>0.151591</td>\n",
              "      <td>0.210183</td>\n",
              "      <td>0.017076</td>\n",
              "      <td>1.000000</td>\n",
              "    </tr>\n",
              "  </tbody>\n",
              "</table>\n",
              "</div>"
            ],
            "text/plain": [
              "                    Age  WorkClass  ...  NativeCountry    Income\n",
              "Age            1.000000   0.035806  ...      -0.002799  0.209905\n",
              "WorkClass      0.035806   1.000000  ...      -0.008998 -0.011085\n",
              "fnlwgt        -0.076785  -0.028965  ...      -0.058393 -0.007184\n",
              "Education      0.067672   0.009775  ...      -0.077500 -0.131997\n",
              "EducationNum   0.013224   0.002833  ...       0.088553  0.299655\n",
              "MaritalStatus -0.007450  -0.050247  ...       0.014345 -0.340879\n",
              "Occupation    -0.006926   0.012333  ...       0.001974  0.063880\n",
              "Relationship  -0.193571  -0.044184  ...      -0.001789 -0.197148\n",
              "Gender         0.074820   0.064689  ...      -0.006153  0.201114\n",
              "CapitalGain    0.090518  -0.009554  ...       0.013369  0.233291\n",
              "CapitalLoss    0.055884   0.004389  ...       0.002590  0.151591\n",
              "HoursPerWeek   0.066434   0.037489  ...       0.003174  0.210183\n",
              "NativeCountry -0.002799  -0.008998  ...       1.000000  0.017076\n",
              "Income         0.209905  -0.011085  ...       0.017076  1.000000\n",
              "\n",
              "[14 rows x 14 columns]"
            ]
          },
          "metadata": {
            "tags": []
          },
          "execution_count": 124
        }
      ]
    },
    {
      "cell_type": "code",
      "metadata": {
        "colab": {
          "base_uri": "https://localhost:8080/"
        },
        "id": "Ca-jwYAHDzek",
        "outputId": "8b5796fc-5571-492a-c82e-37bec8baa1d7"
      },
      "source": [
        "np.isnan(data.values.any())  # To check if there are any null values"
      ],
      "execution_count": null,
      "outputs": [
        {
          "output_type": "execute_result",
          "data": {
            "text/plain": [
              "False"
            ]
          },
          "metadata": {
            "tags": []
          },
          "execution_count": 126
        }
      ]
    },
    {
      "cell_type": "markdown",
      "metadata": {
        "id": "vZ8yS3DIGHN9"
      },
      "source": [
        "**Modelling**"
      ]
    },
    {
      "cell_type": "code",
      "metadata": {
        "id": "DfjWk3RoEFNT"
      },
      "source": [
        "from sklearn.model_selection import train_test_split\r\n",
        "from sklearn.linear_model import LogisticRegression\r\n",
        "lgr=LogisticRegression()"
      ],
      "execution_count": null,
      "outputs": []
    },
    {
      "cell_type": "code",
      "metadata": {
        "colab": {
          "base_uri": "https://localhost:8080/",
          "height": 439
        },
        "id": "f7riaepEHEPI",
        "outputId": "e7e49c36-638c-43c5-a122-734d32c8ffa4"
      },
      "source": [
        "x=data.iloc[:,:-1]\r\n",
        "x"
      ],
      "execution_count": null,
      "outputs": [
        {
          "output_type": "execute_result",
          "data": {
            "text/html": [
              "<div>\n",
              "<style scoped>\n",
              "    .dataframe tbody tr th:only-of-type {\n",
              "        vertical-align: middle;\n",
              "    }\n",
              "\n",
              "    .dataframe tbody tr th {\n",
              "        vertical-align: top;\n",
              "    }\n",
              "\n",
              "    .dataframe thead th {\n",
              "        text-align: right;\n",
              "    }\n",
              "</style>\n",
              "<table border=\"1\" class=\"dataframe\">\n",
              "  <thead>\n",
              "    <tr style=\"text-align: right;\">\n",
              "      <th></th>\n",
              "      <th>Age</th>\n",
              "      <th>WorkClass</th>\n",
              "      <th>fnlwgt</th>\n",
              "      <th>Education</th>\n",
              "      <th>EducationNum</th>\n",
              "      <th>MaritalStatus</th>\n",
              "      <th>Occupation</th>\n",
              "      <th>Relationship</th>\n",
              "      <th>Gender</th>\n",
              "      <th>CapitalGain</th>\n",
              "      <th>CapitalLoss</th>\n",
              "      <th>HoursPerWeek</th>\n",
              "      <th>NativeCountry</th>\n",
              "    </tr>\n",
              "  </thead>\n",
              "  <tbody>\n",
              "    <tr>\n",
              "      <th>0</th>\n",
              "      <td>39.0</td>\n",
              "      <td>6</td>\n",
              "      <td>0.082886</td>\n",
              "      <td>0</td>\n",
              "      <td>13.0</td>\n",
              "      <td>1</td>\n",
              "      <td>0</td>\n",
              "      <td>1</td>\n",
              "      <td>1</td>\n",
              "      <td>0.186162</td>\n",
              "      <td>0.000000</td>\n",
              "      <td>40.0</td>\n",
              "      <td>38</td>\n",
              "    </tr>\n",
              "    <tr>\n",
              "      <th>1</th>\n",
              "      <td>50.0</td>\n",
              "      <td>5</td>\n",
              "      <td>0.090250</td>\n",
              "      <td>0</td>\n",
              "      <td>13.0</td>\n",
              "      <td>0</td>\n",
              "      <td>2</td>\n",
              "      <td>0</td>\n",
              "      <td>1</td>\n",
              "      <td>0.000000</td>\n",
              "      <td>0.000000</td>\n",
              "      <td>13.0</td>\n",
              "      <td>38</td>\n",
              "    </tr>\n",
              "    <tr>\n",
              "      <th>2</th>\n",
              "      <td>38.0</td>\n",
              "      <td>3</td>\n",
              "      <td>0.258402</td>\n",
              "      <td>3</td>\n",
              "      <td>9.0</td>\n",
              "      <td>2</td>\n",
              "      <td>5</td>\n",
              "      <td>1</td>\n",
              "      <td>1</td>\n",
              "      <td>0.000000</td>\n",
              "      <td>0.000000</td>\n",
              "      <td>40.0</td>\n",
              "      <td>38</td>\n",
              "    </tr>\n",
              "    <tr>\n",
              "      <th>3</th>\n",
              "      <td>53.0</td>\n",
              "      <td>3</td>\n",
              "      <td>0.225566</td>\n",
              "      <td>3</td>\n",
              "      <td>7.0</td>\n",
              "      <td>0</td>\n",
              "      <td>5</td>\n",
              "      <td>0</td>\n",
              "      <td>1</td>\n",
              "      <td>0.000000</td>\n",
              "      <td>0.020325</td>\n",
              "      <td>40.0</td>\n",
              "      <td>38</td>\n",
              "    </tr>\n",
              "    <tr>\n",
              "      <th>4</th>\n",
              "      <td>28.0</td>\n",
              "      <td>3</td>\n",
              "      <td>0.414391</td>\n",
              "      <td>0</td>\n",
              "      <td>13.0</td>\n",
              "      <td>0</td>\n",
              "      <td>9</td>\n",
              "      <td>5</td>\n",
              "      <td>1</td>\n",
              "      <td>0.000000</td>\n",
              "      <td>0.000000</td>\n",
              "      <td>40.0</td>\n",
              "      <td>4</td>\n",
              "    </tr>\n",
              "    <tr>\n",
              "      <th>...</th>\n",
              "      <td>...</td>\n",
              "      <td>...</td>\n",
              "      <td>...</td>\n",
              "      <td>...</td>\n",
              "      <td>...</td>\n",
              "      <td>...</td>\n",
              "      <td>...</td>\n",
              "      <td>...</td>\n",
              "      <td>...</td>\n",
              "      <td>...</td>\n",
              "      <td>...</td>\n",
              "      <td>...</td>\n",
              "      <td>...</td>\n",
              "    </tr>\n",
              "    <tr>\n",
              "      <th>40930</th>\n",
              "      <td>39.0</td>\n",
              "      <td>3</td>\n",
              "      <td>0.258113</td>\n",
              "      <td>0</td>\n",
              "      <td>13.0</td>\n",
              "      <td>2</td>\n",
              "      <td>9</td>\n",
              "      <td>1</td>\n",
              "      <td>0</td>\n",
              "      <td>0.000000</td>\n",
              "      <td>0.000000</td>\n",
              "      <td>36.0</td>\n",
              "      <td>38</td>\n",
              "    </tr>\n",
              "    <tr>\n",
              "      <th>40931</th>\n",
              "      <td>64.0</td>\n",
              "      <td>3</td>\n",
              "      <td>0.392782</td>\n",
              "      <td>3</td>\n",
              "      <td>9.0</td>\n",
              "      <td>3</td>\n",
              "      <td>2</td>\n",
              "      <td>2</td>\n",
              "      <td>1</td>\n",
              "      <td>0.000000</td>\n",
              "      <td>0.000000</td>\n",
              "      <td>40.0</td>\n",
              "      <td>38</td>\n",
              "    </tr>\n",
              "    <tr>\n",
              "      <th>40932</th>\n",
              "      <td>38.0</td>\n",
              "      <td>3</td>\n",
              "      <td>0.460864</td>\n",
              "      <td>0</td>\n",
              "      <td>13.0</td>\n",
              "      <td>0</td>\n",
              "      <td>9</td>\n",
              "      <td>0</td>\n",
              "      <td>1</td>\n",
              "      <td>0.000000</td>\n",
              "      <td>0.000000</td>\n",
              "      <td>50.0</td>\n",
              "      <td>38</td>\n",
              "    </tr>\n",
              "    <tr>\n",
              "      <th>40933</th>\n",
              "      <td>44.0</td>\n",
              "      <td>3</td>\n",
              "      <td>0.090986</td>\n",
              "      <td>0</td>\n",
              "      <td>13.0</td>\n",
              "      <td>2</td>\n",
              "      <td>0</td>\n",
              "      <td>3</td>\n",
              "      <td>1</td>\n",
              "      <td>0.467118</td>\n",
              "      <td>0.000000</td>\n",
              "      <td>40.0</td>\n",
              "      <td>38</td>\n",
              "    </tr>\n",
              "    <tr>\n",
              "      <th>40934</th>\n",
              "      <td>35.0</td>\n",
              "      <td>4</td>\n",
              "      <td>0.215837</td>\n",
              "      <td>0</td>\n",
              "      <td>13.0</td>\n",
              "      <td>0</td>\n",
              "      <td>3</td>\n",
              "      <td>0</td>\n",
              "      <td>1</td>\n",
              "      <td>0.000000</td>\n",
              "      <td>0.000000</td>\n",
              "      <td>60.0</td>\n",
              "      <td>38</td>\n",
              "    </tr>\n",
              "  </tbody>\n",
              "</table>\n",
              "<p>40082 rows × 13 columns</p>\n",
              "</div>"
            ],
            "text/plain": [
              "        Age  WorkClass    fnlwgt  ...  CapitalLoss  HoursPerWeek  NativeCountry\n",
              "0      39.0          6  0.082886  ...     0.000000          40.0             38\n",
              "1      50.0          5  0.090250  ...     0.000000          13.0             38\n",
              "2      38.0          3  0.258402  ...     0.000000          40.0             38\n",
              "3      53.0          3  0.225566  ...     0.020325          40.0             38\n",
              "4      28.0          3  0.414391  ...     0.000000          40.0              4\n",
              "...     ...        ...       ...  ...          ...           ...            ...\n",
              "40930  39.0          3  0.258113  ...     0.000000          36.0             38\n",
              "40931  64.0          3  0.392782  ...     0.000000          40.0             38\n",
              "40932  38.0          3  0.460864  ...     0.000000          50.0             38\n",
              "40933  44.0          3  0.090986  ...     0.000000          40.0             38\n",
              "40934  35.0          4  0.215837  ...     0.000000          60.0             38\n",
              "\n",
              "[40082 rows x 13 columns]"
            ]
          },
          "metadata": {
            "tags": []
          },
          "execution_count": 133
        }
      ]
    },
    {
      "cell_type": "code",
      "metadata": {
        "colab": {
          "base_uri": "https://localhost:8080/"
        },
        "id": "JJ3SZiDwHeAK",
        "outputId": "6350cbc0-ccda-4985-ef32-b2f8d15139d0"
      },
      "source": [
        "y=data.iloc[:,-1]\r\n",
        "y"
      ],
      "execution_count": null,
      "outputs": [
        {
          "output_type": "execute_result",
          "data": {
            "text/plain": [
              "0        0\n",
              "1        0\n",
              "2        0\n",
              "3        0\n",
              "4        0\n",
              "        ..\n",
              "40930    0\n",
              "40931    0\n",
              "40932    0\n",
              "40933    0\n",
              "40934    1\n",
              "Name: Income, Length: 40082, dtype: int64"
            ]
          },
          "metadata": {
            "tags": []
          },
          "execution_count": 134
        }
      ]
    },
    {
      "cell_type": "code",
      "metadata": {
        "id": "YD6MvyLlHnHB"
      },
      "source": [
        "x_train,x_test,y_train,y_test=train_test_split(x,y,test_size=0.2,random_state=10)"
      ],
      "execution_count": null,
      "outputs": []
    },
    {
      "cell_type": "code",
      "metadata": {
        "colab": {
          "base_uri": "https://localhost:8080/"
        },
        "id": "OJK90KeSKSNv",
        "outputId": "87ecd49f-a23f-4748-a533-023164fe9333"
      },
      "source": [
        "data.info()"
      ],
      "execution_count": null,
      "outputs": [
        {
          "output_type": "stream",
          "text": [
            "<class 'pandas.core.frame.DataFrame'>\n",
            "Int64Index: 40082 entries, 0 to 40934\n",
            "Data columns (total 14 columns):\n",
            " #   Column         Non-Null Count  Dtype  \n",
            "---  ------         --------------  -----  \n",
            " 0   Age            40082 non-null  float64\n",
            " 1   WorkClass      40082 non-null  int64  \n",
            " 2   fnlwgt         40082 non-null  float64\n",
            " 3   Education      40082 non-null  int64  \n",
            " 4   EducationNum   40082 non-null  float64\n",
            " 5   MaritalStatus  40082 non-null  int64  \n",
            " 6   Occupation     40082 non-null  int64  \n",
            " 7   Relationship   40082 non-null  int64  \n",
            " 8   Gender         40082 non-null  int64  \n",
            " 9   CapitalGain    40082 non-null  float64\n",
            " 10  CapitalLoss    40082 non-null  float64\n",
            " 11  HoursPerWeek   40082 non-null  float64\n",
            " 12  NativeCountry  40082 non-null  int64  \n",
            " 13  Income         40082 non-null  int64  \n",
            "dtypes: float64(6), int64(8)\n",
            "memory usage: 5.8 MB\n"
          ],
          "name": "stdout"
        }
      ]
    },
    {
      "cell_type": "code",
      "metadata": {
        "colab": {
          "base_uri": "https://localhost:8080/"
        },
        "id": "W6Ui9kFzKWeB",
        "outputId": "adc9b5d8-c856-4612-df95-749c83fdd611"
      },
      "source": [
        "lgr_model=lgr.fit(x_train,y_train)"
      ],
      "execution_count": null,
      "outputs": [
        {
          "output_type": "stream",
          "text": [
            "/usr/local/lib/python3.6/dist-packages/sklearn/linear_model/_logistic.py:940: ConvergenceWarning: lbfgs failed to converge (status=1):\n",
            "STOP: TOTAL NO. of ITERATIONS REACHED LIMIT.\n",
            "\n",
            "Increase the number of iterations (max_iter) or scale the data as shown in:\n",
            "    https://scikit-learn.org/stable/modules/preprocessing.html\n",
            "Please also refer to the documentation for alternative solver options:\n",
            "    https://scikit-learn.org/stable/modules/linear_model.html#logistic-regression\n",
            "  extra_warning_msg=_LOGISTIC_SOLVER_CONVERGENCE_MSG)\n"
          ],
          "name": "stderr"
        }
      ]
    },
    {
      "cell_type": "code",
      "metadata": {
        "id": "5Lj4BkApKyMl"
      },
      "source": [
        "y_predict=lgr_model.predict(x_test)"
      ],
      "execution_count": null,
      "outputs": []
    },
    {
      "cell_type": "code",
      "metadata": {
        "colab": {
          "base_uri": "https://localhost:8080/"
        },
        "id": "F_U8IKRHK_HP",
        "outputId": "9b2e7e00-e74b-450d-badb-e768d5651cf2"
      },
      "source": [
        "y_predict"
      ],
      "execution_count": null,
      "outputs": [
        {
          "output_type": "execute_result",
          "data": {
            "text/plain": [
              "array([0, 0, 0, ..., 0, 0, 0])"
            ]
          },
          "metadata": {
            "tags": []
          },
          "execution_count": 142
        }
      ]
    },
    {
      "cell_type": "code",
      "metadata": {
        "colab": {
          "base_uri": "https://localhost:8080/"
        },
        "id": "g062iymZLBio",
        "outputId": "fbc562fe-8fa9-4aea-ec84-03d5b08bca2a"
      },
      "source": [
        "from sklearn.metrics import accuracy_score,confusion_matrix\r\n",
        "accuracy_score(y_predict,y_test)"
      ],
      "execution_count": null,
      "outputs": [
        {
          "output_type": "execute_result",
          "data": {
            "text/plain": [
              "0.812523387800923"
            ]
          },
          "metadata": {
            "tags": []
          },
          "execution_count": 143
        }
      ]
    },
    {
      "cell_type": "code",
      "metadata": {
        "colab": {
          "base_uri": "https://localhost:8080/"
        },
        "id": "dTM5W62NLuOB",
        "outputId": "a13d8110-6e02-40b4-bf76-03f60885a0bc"
      },
      "source": [
        "confusion_matrix(y_test,y_predict)"
      ],
      "execution_count": null,
      "outputs": [
        {
          "output_type": "execute_result",
          "data": {
            "text/plain": [
              "array([[5800,  409],\n",
              "       [1094,  714]])"
            ]
          },
          "metadata": {
            "tags": []
          },
          "execution_count": 144
        }
      ]
    },
    {
      "cell_type": "markdown",
      "metadata": {
        "id": "dlyY3YwcMule"
      },
      "source": [
        "**Decision Trees**"
      ]
    },
    {
      "cell_type": "code",
      "metadata": {
        "id": "7dRCdzS_Mjar"
      },
      "source": [
        "from sklearn.tree import DecisionTreeClassifier"
      ],
      "execution_count": null,
      "outputs": []
    },
    {
      "cell_type": "code",
      "metadata": {
        "id": "UPnYIzg8M4SB"
      },
      "source": [
        "dtc=DecisionTreeClassifier()"
      ],
      "execution_count": null,
      "outputs": []
    },
    {
      "cell_type": "code",
      "metadata": {
        "colab": {
          "base_uri": "https://localhost:8080/"
        },
        "id": "cHHJ2EzpQa8q",
        "outputId": "81910835-0ce7-4c7e-b85e-8b38e43adcd2"
      },
      "source": [
        "data.info()"
      ],
      "execution_count": null,
      "outputs": [
        {
          "output_type": "stream",
          "text": [
            "<class 'pandas.core.frame.DataFrame'>\n",
            "Int64Index: 40082 entries, 0 to 40934\n",
            "Data columns (total 14 columns):\n",
            " #   Column         Non-Null Count  Dtype  \n",
            "---  ------         --------------  -----  \n",
            " 0   Age            40082 non-null  float64\n",
            " 1   WorkClass      40082 non-null  int64  \n",
            " 2   fnlwgt         40082 non-null  float64\n",
            " 3   Education      40082 non-null  int64  \n",
            " 4   EducationNum   40082 non-null  float64\n",
            " 5   MaritalStatus  40082 non-null  int64  \n",
            " 6   Occupation     40082 non-null  int64  \n",
            " 7   Relationship   40082 non-null  int64  \n",
            " 8   Gender         40082 non-null  int64  \n",
            " 9   CapitalGain    40082 non-null  float64\n",
            " 10  CapitalLoss    40082 non-null  float64\n",
            " 11  HoursPerWeek   40082 non-null  float64\n",
            " 12  NativeCountry  40082 non-null  int64  \n",
            " 13  Income         40082 non-null  int64  \n",
            "dtypes: float64(6), int64(8)\n",
            "memory usage: 5.8 MB\n"
          ],
          "name": "stdout"
        }
      ]
    },
    {
      "cell_type": "code",
      "metadata": {
        "id": "G3Hyb_z9NTY3"
      },
      "source": [
        "x=data.loc[:,['Age','WorkClass','Education','MaritalStatus','Occupation','Relationship','Gender','NativeCountry','fnlwgt',\"CapitalGain\",'HoursPerWeek','CapitalLoss']]\r\n",
        "y=data.loc[:,['Income']]"
      ],
      "execution_count": null,
      "outputs": []
    },
    {
      "cell_type": "code",
      "metadata": {
        "colab": {
          "base_uri": "https://localhost:8080/",
          "height": 419
        },
        "id": "yNjEUeg-NYx3",
        "outputId": "06a74129-58bb-458a-91fe-88fa711ca0d5"
      },
      "source": [
        "y"
      ],
      "execution_count": null,
      "outputs": [
        {
          "output_type": "execute_result",
          "data": {
            "text/html": [
              "<div>\n",
              "<style scoped>\n",
              "    .dataframe tbody tr th:only-of-type {\n",
              "        vertical-align: middle;\n",
              "    }\n",
              "\n",
              "    .dataframe tbody tr th {\n",
              "        vertical-align: top;\n",
              "    }\n",
              "\n",
              "    .dataframe thead th {\n",
              "        text-align: right;\n",
              "    }\n",
              "</style>\n",
              "<table border=\"1\" class=\"dataframe\">\n",
              "  <thead>\n",
              "    <tr style=\"text-align: right;\">\n",
              "      <th></th>\n",
              "      <th>Income</th>\n",
              "    </tr>\n",
              "  </thead>\n",
              "  <tbody>\n",
              "    <tr>\n",
              "      <th>0</th>\n",
              "      <td>0</td>\n",
              "    </tr>\n",
              "    <tr>\n",
              "      <th>1</th>\n",
              "      <td>0</td>\n",
              "    </tr>\n",
              "    <tr>\n",
              "      <th>2</th>\n",
              "      <td>0</td>\n",
              "    </tr>\n",
              "    <tr>\n",
              "      <th>3</th>\n",
              "      <td>0</td>\n",
              "    </tr>\n",
              "    <tr>\n",
              "      <th>4</th>\n",
              "      <td>0</td>\n",
              "    </tr>\n",
              "    <tr>\n",
              "      <th>...</th>\n",
              "      <td>...</td>\n",
              "    </tr>\n",
              "    <tr>\n",
              "      <th>40930</th>\n",
              "      <td>0</td>\n",
              "    </tr>\n",
              "    <tr>\n",
              "      <th>40931</th>\n",
              "      <td>0</td>\n",
              "    </tr>\n",
              "    <tr>\n",
              "      <th>40932</th>\n",
              "      <td>0</td>\n",
              "    </tr>\n",
              "    <tr>\n",
              "      <th>40933</th>\n",
              "      <td>0</td>\n",
              "    </tr>\n",
              "    <tr>\n",
              "      <th>40934</th>\n",
              "      <td>1</td>\n",
              "    </tr>\n",
              "  </tbody>\n",
              "</table>\n",
              "<p>40082 rows × 1 columns</p>\n",
              "</div>"
            ],
            "text/plain": [
              "       Income\n",
              "0           0\n",
              "1           0\n",
              "2           0\n",
              "3           0\n",
              "4           0\n",
              "...       ...\n",
              "40930       0\n",
              "40931       0\n",
              "40932       0\n",
              "40933       0\n",
              "40934       1\n",
              "\n",
              "[40082 rows x 1 columns]"
            ]
          },
          "metadata": {
            "tags": []
          },
          "execution_count": 161
        }
      ]
    },
    {
      "cell_type": "code",
      "metadata": {
        "id": "IE7PSNqmNbw1"
      },
      "source": [
        "from sklearn.model_selection import train_test_split\r\n",
        "xtrain,xtest,ytrain,ytest=train_test_split(x,y,test_size=0.2,random_state=10)"
      ],
      "execution_count": null,
      "outputs": []
    },
    {
      "cell_type": "code",
      "metadata": {
        "colab": {
          "base_uri": "https://localhost:8080/"
        },
        "id": "78Z2kUJ7NqZJ",
        "outputId": "64cea455-338e-4775-e696-bd471563f7e0"
      },
      "source": [
        "dtc.fit(xtrain,ytrain)"
      ],
      "execution_count": null,
      "outputs": [
        {
          "output_type": "execute_result",
          "data": {
            "text/plain": [
              "DecisionTreeClassifier(ccp_alpha=0.0, class_weight=None, criterion='gini',\n",
              "                       max_depth=None, max_features=None, max_leaf_nodes=None,\n",
              "                       min_impurity_decrease=0.0, min_impurity_split=None,\n",
              "                       min_samples_leaf=1, min_samples_split=2,\n",
              "                       min_weight_fraction_leaf=0.0, presort='deprecated',\n",
              "                       random_state=None, splitter='best')"
            ]
          },
          "metadata": {
            "tags": []
          },
          "execution_count": 163
        }
      ]
    },
    {
      "cell_type": "code",
      "metadata": {
        "id": "splosPp9OUwO"
      },
      "source": [
        "ypredict=dtc.predict(xtest)"
      ],
      "execution_count": null,
      "outputs": []
    },
    {
      "cell_type": "code",
      "metadata": {
        "colab": {
          "base_uri": "https://localhost:8080/"
        },
        "id": "jE_zUJv4OeKi",
        "outputId": "780c71c8-efec-4a94-cb88-ac3c82871b1d"
      },
      "source": [
        "accuracy_score(ypredict,ytest)"
      ],
      "execution_count": null,
      "outputs": [
        {
          "output_type": "execute_result",
          "data": {
            "text/plain": [
              "0.7901958338530622"
            ]
          },
          "metadata": {
            "tags": []
          },
          "execution_count": 166
        }
      ]
    },
    {
      "cell_type": "code",
      "metadata": {
        "colab": {
          "base_uri": "https://localhost:8080/"
        },
        "id": "-AHw9Ns7P3Uw",
        "outputId": "1315cae7-f768-449e-f8e4-4e58c13a8891"
      },
      "source": [
        "confusion_matrix(y_test,y_predict)"
      ],
      "execution_count": null,
      "outputs": [
        {
          "output_type": "execute_result",
          "data": {
            "text/plain": [
              "array([[5800,  409],\n",
              "       [1094,  714]])"
            ]
          },
          "metadata": {
            "tags": []
          },
          "execution_count": 167
        }
      ]
    },
    {
      "cell_type": "markdown",
      "metadata": {
        "id": "GWsjs2djQPBy"
      },
      "source": [
        "**Random Forest**"
      ]
    },
    {
      "cell_type": "code",
      "metadata": {
        "id": "lhwSnKbQQOw6"
      },
      "source": [
        "from sklearn.ensemble import RandomForestClassifier"
      ],
      "execution_count": null,
      "outputs": []
    },
    {
      "cell_type": "code",
      "metadata": {
        "id": "yklpoqYQP_lm"
      },
      "source": [
        "rf=RandomForestClassifier(n_estimators=100,oob_score=True,n_jobs=1,random_state=20)"
      ],
      "execution_count": null,
      "outputs": []
    },
    {
      "cell_type": "code",
      "metadata": {
        "colab": {
          "base_uri": "https://localhost:8080/"
        },
        "id": "cBue0854RPOH",
        "outputId": "c1931960-c4d8-47a7-e7ee-e9108a5d6eb6"
      },
      "source": [
        "rf.fit(xtrain,ytrain)"
      ],
      "execution_count": null,
      "outputs": [
        {
          "output_type": "stream",
          "text": [
            "/usr/local/lib/python3.6/dist-packages/ipykernel_launcher.py:1: DataConversionWarning: A column-vector y was passed when a 1d array was expected. Please change the shape of y to (n_samples,), for example using ravel().\n",
            "  \"\"\"Entry point for launching an IPython kernel.\n"
          ],
          "name": "stderr"
        },
        {
          "output_type": "execute_result",
          "data": {
            "text/plain": [
              "RandomForestClassifier(bootstrap=True, ccp_alpha=0.0, class_weight=None,\n",
              "                       criterion='gini', max_depth=None, max_features='auto',\n",
              "                       max_leaf_nodes=None, max_samples=None,\n",
              "                       min_impurity_decrease=0.0, min_impurity_split=None,\n",
              "                       min_samples_leaf=1, min_samples_split=2,\n",
              "                       min_weight_fraction_leaf=0.0, n_estimators=100, n_jobs=1,\n",
              "                       oob_score=True, random_state=20, verbose=0,\n",
              "                       warm_start=False)"
            ]
          },
          "metadata": {
            "tags": []
          },
          "execution_count": 171
        }
      ]
    },
    {
      "cell_type": "code",
      "metadata": {
        "id": "ht_IhYIRRSRh"
      },
      "source": [
        "ypredict=rf.predict(xtest)"
      ],
      "execution_count": null,
      "outputs": []
    },
    {
      "cell_type": "code",
      "metadata": {
        "colab": {
          "base_uri": "https://localhost:8080/"
        },
        "id": "zKiG7akjRV_t",
        "outputId": "423afa99-b9e2-442b-d6dd-4ddd6ad9f179"
      },
      "source": [
        "accuracy_score(ypredict,ytest)"
      ],
      "execution_count": null,
      "outputs": [
        {
          "output_type": "execute_result",
          "data": {
            "text/plain": [
              "0.8445802669327679"
            ]
          },
          "metadata": {
            "tags": []
          },
          "execution_count": 173
        }
      ]
    },
    {
      "cell_type": "code",
      "metadata": {
        "colab": {
          "base_uri": "https://localhost:8080/"
        },
        "id": "FPHOnrX8RfAK",
        "outputId": "a1da9314-7bf2-4f40-9ba0-a099b06414e9"
      },
      "source": [
        "confusion_matrix(ytest,ypredict)"
      ],
      "execution_count": null,
      "outputs": [
        {
          "output_type": "execute_result",
          "data": {
            "text/plain": [
              "array([[5757,  452],\n",
              "       [ 794, 1014]])"
            ]
          },
          "metadata": {
            "tags": []
          },
          "execution_count": 174
        }
      ]
    },
    {
      "cell_type": "markdown",
      "metadata": {
        "id": "r2NJqNlZRr8G"
      },
      "source": [
        "**SVM**"
      ]
    },
    {
      "cell_type": "code",
      "metadata": {
        "id": "BM1I2KVVRkgv"
      },
      "source": [
        "from sklearn.svm import SVC"
      ],
      "execution_count": null,
      "outputs": []
    },
    {
      "cell_type": "code",
      "metadata": {
        "id": "X7Sl7IFiRraK"
      },
      "source": [
        "svc=SVC(kernel='rbf',C=1,gamma=1)"
      ],
      "execution_count": null,
      "outputs": []
    },
    {
      "cell_type": "code",
      "metadata": {
        "colab": {
          "base_uri": "https://localhost:8080/"
        },
        "id": "HWDjdKJkUkGX",
        "outputId": "fb016aae-c82d-4926-806d-245783e1beae"
      },
      "source": [
        "svc.fit(xtrain,ytrain)"
      ],
      "execution_count": null,
      "outputs": [
        {
          "output_type": "stream",
          "text": [
            "/usr/local/lib/python3.6/dist-packages/sklearn/utils/validation.py:760: DataConversionWarning: A column-vector y was passed when a 1d array was expected. Please change the shape of y to (n_samples, ), for example using ravel().\n",
            "  y = column_or_1d(y, warn=True)\n"
          ],
          "name": "stderr"
        },
        {
          "output_type": "execute_result",
          "data": {
            "text/plain": [
              "SVC(C=1, break_ties=False, cache_size=200, class_weight=None, coef0=0.0,\n",
              "    decision_function_shape='ovr', degree=3, gamma=1, kernel='rbf', max_iter=-1,\n",
              "    probability=False, random_state=None, shrinking=True, tol=0.001,\n",
              "    verbose=False)"
            ]
          },
          "metadata": {
            "tags": []
          },
          "execution_count": 177
        }
      ]
    },
    {
      "cell_type": "code",
      "metadata": {
        "id": "w3YndptKUmde"
      },
      "source": [
        "ypredict=svc.predict(xtest)"
      ],
      "execution_count": null,
      "outputs": []
    },
    {
      "cell_type": "code",
      "metadata": {
        "colab": {
          "base_uri": "https://localhost:8080/"
        },
        "id": "yUmiuCEoVTxZ",
        "outputId": "c05e96ad-5b39-469a-ebdc-6c66e0747ffe"
      },
      "source": [
        "accuracy_score(ytest,ypredict)"
      ],
      "execution_count": null,
      "outputs": [
        {
          "output_type": "execute_result",
          "data": {
            "text/plain": [
              "0.7956841711363353"
            ]
          },
          "metadata": {
            "tags": []
          },
          "execution_count": 179
        }
      ]
    },
    {
      "cell_type": "markdown",
      "metadata": {
        "id": "wt4KurB8a8JM"
      },
      "source": [
        "KNN"
      ]
    },
    {
      "cell_type": "code",
      "metadata": {
        "id": "gzMqpNiRadGb"
      },
      "source": [
        "from sklearn.neighbors import KNeighborsClassifier"
      ],
      "execution_count": null,
      "outputs": []
    },
    {
      "cell_type": "code",
      "metadata": {
        "id": "GBUYskb0a-fb"
      },
      "source": [
        "kn=KNeighborsClassifier(n_neighbors=6)"
      ],
      "execution_count": null,
      "outputs": []
    },
    {
      "cell_type": "code",
      "metadata": {
        "colab": {
          "base_uri": "https://localhost:8080/"
        },
        "id": "uOBo9DgVbCnS",
        "outputId": "28500daa-225b-47aa-8c12-f5467110ea4c"
      },
      "source": [
        "kn.fit(xtrain,ytrain)"
      ],
      "execution_count": null,
      "outputs": [
        {
          "output_type": "stream",
          "text": [
            "/usr/local/lib/python3.6/dist-packages/ipykernel_launcher.py:1: DataConversionWarning: A column-vector y was passed when a 1d array was expected. Please change the shape of y to (n_samples, ), for example using ravel().\n",
            "  \"\"\"Entry point for launching an IPython kernel.\n"
          ],
          "name": "stderr"
        },
        {
          "output_type": "execute_result",
          "data": {
            "text/plain": [
              "KNeighborsClassifier(algorithm='auto', leaf_size=30, metric='minkowski',\n",
              "                     metric_params=None, n_jobs=None, n_neighbors=6, p=2,\n",
              "                     weights='uniform')"
            ]
          },
          "metadata": {
            "tags": []
          },
          "execution_count": 184
        }
      ]
    },
    {
      "cell_type": "code",
      "metadata": {
        "id": "gP6EJizWbKc4"
      },
      "source": [
        "ypredict=kn.predict(xtest)"
      ],
      "execution_count": null,
      "outputs": []
    },
    {
      "cell_type": "code",
      "metadata": {
        "colab": {
          "base_uri": "https://localhost:8080/"
        },
        "id": "vOcIrUZJbfOo",
        "outputId": "20e96a2a-fb8e-4935-9786-c7d435320ba9"
      },
      "source": [
        "accuracy_score(ypredict,ytest)"
      ],
      "execution_count": null,
      "outputs": [
        {
          "output_type": "execute_result",
          "data": {
            "text/plain": [
              "0.802794062616939"
            ]
          },
          "metadata": {
            "tags": []
          },
          "execution_count": 188
        }
      ]
    },
    {
      "cell_type": "code",
      "metadata": {
        "colab": {
          "base_uri": "https://localhost:8080/"
        },
        "id": "raNnWH3DcHQ0",
        "outputId": "a3f48aa1-0562-4120-85e0-13e5d8d7f6c8"
      },
      "source": [
        "confusion_matrix(ytest,ypredict)"
      ],
      "execution_count": null,
      "outputs": [
        {
          "output_type": "execute_result",
          "data": {
            "text/plain": [
              "array([[5784,  425],\n",
              "       [1156,  652]])"
            ]
          },
          "metadata": {
            "tags": []
          },
          "execution_count": 189
        }
      ]
    },
    {
      "cell_type": "code",
      "metadata": {
        "id": "VVf8d8dJcOD9"
      },
      "source": [
        ""
      ],
      "execution_count": null,
      "outputs": []
    }
  ]
}